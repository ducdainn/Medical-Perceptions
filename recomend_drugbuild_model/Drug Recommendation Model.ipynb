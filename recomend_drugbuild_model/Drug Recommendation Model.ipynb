{
 "cells": [
  {
   "cell_type": "markdown",
   "metadata": {
    "id": "83F1tufI6qfb"
   },
   "source": [
    "# Drug Prescription\n"
   ]
  },
  {
   "cell_type": "markdown",
   "metadata": {
    "id": "r-WMoG1O6qfm"
   },
   "source": [
    "<h1>Table of contents</h1>\n",
    "\n",
    "<div class=\"alert alert-block alert-info\" style=\"margin-top: 20px\">\n",
    "    <ol>\n",
    "        <li><a href=\"#about_dataset\">About the dataset</a></li>\n",
    "        <li><a href=\"#downloading_data\">Downloading the Data</a></li>\n",
    "        <li><a href=\"#pre-processing\">Pre-processing</a></li>\n",
    "        <li><a href=\"#setting_up_tree\">Setting up the Decision Tree</a></li>\n",
    "        <li><a href=\"#modeling\">Modeling</a></li>\n",
    "        <li><a href=\"#prediction\">Prediction</a></li>\n",
    "        <li><a href=\"#evaluation\">Evaluation</a></li>\n",
    "        <li><a href=\"#visualization\">Visualization</a></li>\n",
    "    </ol>\n",
    "</div>\n",
    "<br>\n",
    "<hr>\n"
   ]
  },
  {
   "cell_type": "markdown",
   "metadata": {},
   "source": [
    "#### Importing necessary Libraries "
   ]
  },
  {
   "cell_type": "code",
   "execution_count": 1,
   "metadata": {
    "id": "2ihhGDHH6qfp"
   },
   "outputs": [],
   "source": [
    "import numpy as np \n",
    "import pandas as pd\n",
    "from sklearn.tree import DecisionTreeClassifier"
   ]
  },
  {
   "cell_type": "markdown",
   "metadata": {},
   "source": [
    "#### Loading Dataset "
   ]
  },
  {
   "cell_type": "code",
   "execution_count": 2,
   "metadata": {
    "id": "23UztCUF6qfv"
   },
   "outputs": [],
   "source": [
    "my_data=pd.read_csv(\"Datasets/Drug_prescription_Dataset.csv\", delimiter=\",\")"
   ]
  },
  {
   "cell_type": "markdown",
   "metadata": {
    "id": "qciniWBD6qfx"
   },
   "source": [
    "#### Viewing First 5 rows of dataframe"
   ]
  },
  {
   "cell_type": "code",
   "execution_count": 3,
   "metadata": {
    "colab": {
     "base_uri": "https://localhost:8080/",
     "height": 206
    },
    "id": "1Gzwf9MQ6qfy",
    "outputId": "b352273d-2cd3-49cb-b4fb-48028471d1c2"
   },
   "outputs": [
    {
     "data": {
      "text/html": [
       "<div>\n",
       "<style scoped>\n",
       "    .dataframe tbody tr th:only-of-type {\n",
       "        vertical-align: middle;\n",
       "    }\n",
       "\n",
       "    .dataframe tbody tr th {\n",
       "        vertical-align: top;\n",
       "    }\n",
       "\n",
       "    .dataframe thead th {\n",
       "        text-align: right;\n",
       "    }\n",
       "</style>\n",
       "<table border=\"1\" class=\"dataframe\">\n",
       "  <thead>\n",
       "    <tr style=\"text-align: right;\">\n",
       "      <th></th>\n",
       "      <th>disease</th>\n",
       "      <th>age</th>\n",
       "      <th>gender</th>\n",
       "      <th>severity</th>\n",
       "      <th>drug</th>\n",
       "    </tr>\n",
       "  </thead>\n",
       "  <tbody>\n",
       "    <tr>\n",
       "      <th>0</th>\n",
       "      <td>diarrhea</td>\n",
       "      <td>4</td>\n",
       "      <td>male</td>\n",
       "      <td>LOW</td>\n",
       "      <td>Oral rehydration salts, Probiotics</td>\n",
       "    </tr>\n",
       "    <tr>\n",
       "      <th>1</th>\n",
       "      <td>diarrhea</td>\n",
       "      <td>4</td>\n",
       "      <td>male</td>\n",
       "      <td>NORMAL</td>\n",
       "      <td>Loperamide, Azithromycin</td>\n",
       "    </tr>\n",
       "    <tr>\n",
       "      <th>2</th>\n",
       "      <td>diarrhea</td>\n",
       "      <td>5</td>\n",
       "      <td>male</td>\n",
       "      <td>LOW</td>\n",
       "      <td>Oral rehydration salts, Probiotics</td>\n",
       "    </tr>\n",
       "    <tr>\n",
       "      <th>3</th>\n",
       "      <td>diarrhea</td>\n",
       "      <td>5</td>\n",
       "      <td>male</td>\n",
       "      <td>NORMAL</td>\n",
       "      <td>Loperamide, Azithromycin</td>\n",
       "    </tr>\n",
       "    <tr>\n",
       "      <th>4</th>\n",
       "      <td>diarrhea</td>\n",
       "      <td>6</td>\n",
       "      <td>male</td>\n",
       "      <td>LOW</td>\n",
       "      <td>Oral rehydration salts, Probiotics</td>\n",
       "    </tr>\n",
       "  </tbody>\n",
       "</table>\n",
       "</div>"
      ],
      "text/plain": [
       "    disease  age gender severity                                drug\n",
       "0  diarrhea    4   male      LOW  Oral rehydration salts, Probiotics\n",
       "1  diarrhea    4   male   NORMAL            Loperamide, Azithromycin\n",
       "2  diarrhea    5   male      LOW  Oral rehydration salts, Probiotics\n",
       "3  diarrhea    5   male   NORMAL            Loperamide, Azithromycin\n",
       "4  diarrhea    6   male      LOW  Oral rehydration salts, Probiotics"
      ]
     },
     "execution_count": 3,
     "metadata": {},
     "output_type": "execute_result"
    }
   ],
   "source": [
    "my_data[0:5]"
   ]
  },
  {
   "cell_type": "markdown",
   "metadata": {
    "id": "8R5Lb3cr6qf0"
   },
   "source": [
    "#### Checking the shape of dataset"
   ]
  },
  {
   "cell_type": "code",
   "execution_count": 4,
   "metadata": {
    "colab": {
     "base_uri": "https://localhost:8080/"
    },
    "id": "AT3dloQ66qf1",
    "outputId": "493ea68b-e12a-4a1b-9109-5123b1e06f6e"
   },
   "outputs": [
    {
     "data": {
      "text/plain": [
       "(1288, 5)"
      ]
     },
     "execution_count": 4,
     "metadata": {},
     "output_type": "execute_result"
    }
   ],
   "source": [
    "my_data.shape"
   ]
  },
  {
   "cell_type": "markdown",
   "metadata": {
    "id": "IYIRjxqj6qf2"
   },
   "source": [
    "<div href=\"pre-processing\">\n",
    "    <h2>Pre-processing</h2>\n",
    "</div>\n"
   ]
  },
  {
   "cell_type": "markdown",
   "metadata": {
    "id": "-IrPEuNZCGuA"
   },
   "source": [
    "#### Checking for Duplicate values"
   ]
  },
  {
   "cell_type": "code",
   "execution_count": 5,
   "metadata": {
    "colab": {
     "base_uri": "https://localhost:8080/",
     "height": 1000
    },
    "id": "k-mBkgdqA3S5",
    "outputId": "e5f53dbe-c0ce-4678-8f88-1a3a1afba6d4"
   },
   "outputs": [
    {
     "name": "stdout",
     "output_type": "stream",
     "text": [
      "Duplicate Rows :\n"
     ]
    },
    {
     "data": {
      "text/plain": [
       "0       False\n",
       "1       False\n",
       "2       False\n",
       "3       False\n",
       "4       False\n",
       "        ...  \n",
       "1283    False\n",
       "1284    False\n",
       "1285    False\n",
       "1286    False\n",
       "1287    False\n",
       "Length: 1288, dtype: bool"
      ]
     },
     "execution_count": 5,
     "metadata": {},
     "output_type": "execute_result"
    }
   ],
   "source": [
    "duplicate = my_data.duplicated()\n",
    " \n",
    "print(\"Duplicate Rows :\")\n",
    " \n",
    "# Displaying the resultant Dataframe\n",
    "duplicate"
   ]
  },
  {
   "cell_type": "markdown",
   "metadata": {},
   "source": [
    "#### Checking the total count of Duplicate Values"
   ]
  },
  {
   "cell_type": "code",
   "execution_count": 6,
   "metadata": {},
   "outputs": [
    {
     "name": "stdout",
     "output_type": "stream",
     "text": [
      "Duplicate Values : 0\n"
     ]
    }
   ],
   "source": [
    "# Checking the total count of Duplicate Values\n",
    "duplicate_rows = my_data[my_data.duplicated()]\n",
    "print(\"Duplicate Values :\", len(duplicate_rows))"
   ]
  },
  {
   "cell_type": "markdown",
   "metadata": {
    "id": "49VT6NWGCOaq"
   },
   "source": [
    "#### Removing duplicate values "
   ]
  },
  {
   "cell_type": "code",
   "execution_count": 7,
   "metadata": {
    "colab": {
     "base_uri": "https://localhost:8080/",
     "height": 423
    },
    "id": "k3S24QoxA8zC",
    "outputId": "ec09301e-8ee3-4d7e-a5d8-d24d296ab6a1",
    "scrolled": true
   },
   "outputs": [
    {
     "data": {
      "text/html": [
       "<div>\n",
       "<style scoped>\n",
       "    .dataframe tbody tr th:only-of-type {\n",
       "        vertical-align: middle;\n",
       "    }\n",
       "\n",
       "    .dataframe tbody tr th {\n",
       "        vertical-align: top;\n",
       "    }\n",
       "\n",
       "    .dataframe thead th {\n",
       "        text-align: right;\n",
       "    }\n",
       "</style>\n",
       "<table border=\"1\" class=\"dataframe\">\n",
       "  <thead>\n",
       "    <tr style=\"text-align: right;\">\n",
       "      <th></th>\n",
       "      <th>disease</th>\n",
       "      <th>age</th>\n",
       "      <th>gender</th>\n",
       "      <th>severity</th>\n",
       "      <th>drug</th>\n",
       "    </tr>\n",
       "  </thead>\n",
       "  <tbody>\n",
       "    <tr>\n",
       "      <th>0</th>\n",
       "      <td>diarrhea</td>\n",
       "      <td>4</td>\n",
       "      <td>male</td>\n",
       "      <td>LOW</td>\n",
       "      <td>Oral rehydration salts, Probiotics</td>\n",
       "    </tr>\n",
       "    <tr>\n",
       "      <th>1</th>\n",
       "      <td>diarrhea</td>\n",
       "      <td>4</td>\n",
       "      <td>male</td>\n",
       "      <td>NORMAL</td>\n",
       "      <td>Loperamide, Azithromycin</td>\n",
       "    </tr>\n",
       "    <tr>\n",
       "      <th>2</th>\n",
       "      <td>diarrhea</td>\n",
       "      <td>5</td>\n",
       "      <td>male</td>\n",
       "      <td>LOW</td>\n",
       "      <td>Oral rehydration salts, Probiotics</td>\n",
       "    </tr>\n",
       "    <tr>\n",
       "      <th>3</th>\n",
       "      <td>diarrhea</td>\n",
       "      <td>5</td>\n",
       "      <td>male</td>\n",
       "      <td>NORMAL</td>\n",
       "      <td>Loperamide, Azithromycin</td>\n",
       "    </tr>\n",
       "    <tr>\n",
       "      <th>4</th>\n",
       "      <td>diarrhea</td>\n",
       "      <td>6</td>\n",
       "      <td>male</td>\n",
       "      <td>LOW</td>\n",
       "      <td>Oral rehydration salts, Probiotics</td>\n",
       "    </tr>\n",
       "    <tr>\n",
       "      <th>...</th>\n",
       "      <td>...</td>\n",
       "      <td>...</td>\n",
       "      <td>...</td>\n",
       "      <td>...</td>\n",
       "      <td>...</td>\n",
       "    </tr>\n",
       "    <tr>\n",
       "      <th>1283</th>\n",
       "      <td>diarrhea</td>\n",
       "      <td>60</td>\n",
       "      <td>male</td>\n",
       "      <td>NORMAL</td>\n",
       "      <td>Loperamide, Fluoroquinolone</td>\n",
       "    </tr>\n",
       "    <tr>\n",
       "      <th>1284</th>\n",
       "      <td>diarrhea</td>\n",
       "      <td>60</td>\n",
       "      <td>male</td>\n",
       "      <td>LOW</td>\n",
       "      <td>Bismuth subsalicylate, Dietary adjustments</td>\n",
       "    </tr>\n",
       "    <tr>\n",
       "      <th>1285</th>\n",
       "      <td>diarrhea</td>\n",
       "      <td>60</td>\n",
       "      <td>female</td>\n",
       "      <td>HIGH</td>\n",
       "      <td>Loperamide, Fluoroquinolone</td>\n",
       "    </tr>\n",
       "    <tr>\n",
       "      <th>1286</th>\n",
       "      <td>diarrhea</td>\n",
       "      <td>60</td>\n",
       "      <td>female</td>\n",
       "      <td>NORMAL</td>\n",
       "      <td>Loperamide, Fluoroquinolone</td>\n",
       "    </tr>\n",
       "    <tr>\n",
       "      <th>1287</th>\n",
       "      <td>diarrhea</td>\n",
       "      <td>60</td>\n",
       "      <td>female</td>\n",
       "      <td>LOW</td>\n",
       "      <td>Bismuth subsalicylate, Dietary adjustments</td>\n",
       "    </tr>\n",
       "  </tbody>\n",
       "</table>\n",
       "<p>1288 rows × 5 columns</p>\n",
       "</div>"
      ],
      "text/plain": [
       "       disease  age  gender severity  \\\n",
       "0     diarrhea    4    male      LOW   \n",
       "1     diarrhea    4    male   NORMAL   \n",
       "2     diarrhea    5    male      LOW   \n",
       "3     diarrhea    5    male   NORMAL   \n",
       "4     diarrhea    6    male      LOW   \n",
       "...        ...  ...     ...      ...   \n",
       "1283  diarrhea   60    male   NORMAL   \n",
       "1284  diarrhea   60    male      LOW   \n",
       "1285  diarrhea   60  female     HIGH   \n",
       "1286  diarrhea   60  female   NORMAL   \n",
       "1287  diarrhea   60  female      LOW   \n",
       "\n",
       "                                            drug  \n",
       "0             Oral rehydration salts, Probiotics  \n",
       "1                       Loperamide, Azithromycin  \n",
       "2             Oral rehydration salts, Probiotics  \n",
       "3                       Loperamide, Azithromycin  \n",
       "4             Oral rehydration salts, Probiotics  \n",
       "...                                          ...  \n",
       "1283                 Loperamide, Fluoroquinolone  \n",
       "1284  Bismuth subsalicylate, Dietary adjustments  \n",
       "1285                 Loperamide, Fluoroquinolone  \n",
       "1286                 Loperamide, Fluoroquinolone  \n",
       "1287  Bismuth subsalicylate, Dietary adjustments  \n",
       "\n",
       "[1288 rows x 5 columns]"
      ]
     },
     "execution_count": 7,
     "metadata": {},
     "output_type": "execute_result"
    }
   ],
   "source": [
    "duplicate_vals = my_data.drop_duplicates()\n",
    "duplicate_vals"
   ]
  },
  {
   "cell_type": "markdown",
   "metadata": {
    "id": "cIwfVC0cCdFH"
   },
   "source": [
    "#### Checking the dataset shape after removing duplicates"
   ]
  },
  {
   "cell_type": "code",
   "execution_count": 8,
   "metadata": {
    "colab": {
     "base_uri": "https://localhost:8080/"
    },
    "id": "srR9TGrxBRJg",
    "outputId": "d7d97e67-971a-4e96-c7d4-ca49669e5f2d"
   },
   "outputs": [
    {
     "data": {
      "text/plain": [
       "(1288, 5)"
      ]
     },
     "execution_count": 8,
     "metadata": {},
     "output_type": "execute_result"
    }
   ],
   "source": [
    "my_data.shape"
   ]
  },
  {
   "cell_type": "markdown",
   "metadata": {
    "id": "YHh2-gJ56qf3"
   },
   "source": [
    "#### Removing the column containing the target name since it doesn't contain numeric values.\n"
   ]
  },
  {
   "cell_type": "code",
   "execution_count": 9,
   "metadata": {
    "colab": {
     "base_uri": "https://localhost:8080/"
    },
    "id": "_vK6URhk6qf3",
    "outputId": "96784070-e9a7-4ba8-cadf-0b1e98991814"
   },
   "outputs": [
    {
     "data": {
      "text/plain": [
       "array([['diarrhea', 4, 'male', 'LOW'],\n",
       "       ['diarrhea', 4, 'male', 'NORMAL'],\n",
       "       ['diarrhea', 5, 'male', 'LOW'],\n",
       "       ['diarrhea', 5, 'male', 'NORMAL'],\n",
       "       ['diarrhea', 6, 'male', 'LOW']], dtype=object)"
      ]
     },
     "execution_count": 9,
     "metadata": {},
     "output_type": "execute_result"
    }
   ],
   "source": [
    "X = my_data[[\"disease\",\"age\",\"gender\",\"severity\"]].values\n",
    "X[0:5]"
   ]
  },
  {
   "cell_type": "markdown",
   "metadata": {
    "id": "9NM-yQawrWeL"
   },
   "source": [
    "#### Checking for Null Values"
   ]
  },
  {
   "cell_type": "code",
   "execution_count": 10,
   "metadata": {
    "colab": {
     "base_uri": "https://localhost:8080/"
    },
    "id": "YCMk4wgZgYgI",
    "outputId": "c4d011db-4c12-408b-d736-1336ed3e28c2"
   },
   "outputs": [
    {
     "data": {
      "text/plain": [
       "disease     0\n",
       "age         0\n",
       "gender      0\n",
       "severity    0\n",
       "drug        0\n",
       "dtype: int64"
      ]
     },
     "execution_count": 10,
     "metadata": {},
     "output_type": "execute_result"
    }
   ],
   "source": [
    "my_data.isnull().sum()"
   ]
  },
  {
   "cell_type": "markdown",
   "metadata": {
    "id": "dA6CTDdrCnZa"
   },
   "source": [
    "#### Another method for checking Null Values "
   ]
  },
  {
   "cell_type": "code",
   "execution_count": 11,
   "metadata": {
    "colab": {
     "base_uri": "https://localhost:8080/"
    },
    "id": "g7d4XPryCmxv",
    "outputId": "51e59f5b-09f6-47dc-b3a6-e6dc91f44f6e"
   },
   "outputs": [
    {
     "data": {
      "text/plain": [
       "False"
      ]
     },
     "execution_count": 11,
     "metadata": {},
     "output_type": "execute_result"
    }
   ],
   "source": [
    "my_data.isnull().values.any()"
   ]
  },
  {
   "cell_type": "markdown",
   "metadata": {
    "id": "OMgYIt5c6qf5"
   },
   "source": [
    "#### Filling the target variable(Class).\n"
   ]
  },
  {
   "cell_type": "code",
   "execution_count": 12,
   "metadata": {
    "colab": {
     "base_uri": "https://localhost:8080/"
    },
    "id": "VFaz5Iga6qf6",
    "outputId": "b7ae75e6-5d15-4153-a622-9d6ea90472ab"
   },
   "outputs": [
    {
     "data": {
      "text/plain": [
       "0    Oral rehydration salts, Probiotics\n",
       "1              Loperamide, Azithromycin\n",
       "2    Oral rehydration salts, Probiotics\n",
       "3              Loperamide, Azithromycin\n",
       "4    Oral rehydration salts, Probiotics\n",
       "5              Loperamide, Azithromycin\n",
       "6    Oral rehydration salts, Probiotics\n",
       "7              Loperamide, Azithromycin\n",
       "8    Oral rehydration salts, Probiotics\n",
       "9              Loperamide, Azithromycin\n",
       "Name: drug, dtype: object"
      ]
     },
     "execution_count": 12,
     "metadata": {},
     "output_type": "execute_result"
    }
   ],
   "source": [
    "y = my_data[\"drug\"]\n",
    "y[0:10]"
   ]
  },
  {
   "cell_type": "markdown",
   "metadata": {
    "id": "RPLSQp2s6qf7"
   },
   "source": [
    "<hr>\n",
    "\n",
    "<div id=\"setting_up_tree\">\n",
    "    <h2>Setting up the Decision Tree</h2>"
   ]
  },
  {
   "cell_type": "markdown",
   "metadata": {},
   "source": [
    "#### Setting a random seed for reproducibility"
   ]
  },
  {
   "cell_type": "code",
   "execution_count": 13,
   "metadata": {
    "id": "o_gaZvGc6qf7"
   },
   "outputs": [],
   "source": [
    "from sklearn.model_selection import train_test_split"
   ]
  },
  {
   "cell_type": "code",
   "execution_count": 14,
   "metadata": {},
   "outputs": [],
   "source": [
    "import numpy as np\n",
    "# set random seed for reproducibility\n",
    "np.random.seed(42)\n",
    "\n",
    "# load your data\n",
    "X = my_data[[\"disease\",\"age\",\"gender\",\"severity\"]].values # your feature data\n",
    "y = my_data[\"drug\"].values # your target data"
   ]
  },
  {
   "cell_type": "markdown",
   "metadata": {},
   "source": [
    "#### Converting categorical variable into dummy/indicator variables. (Preprocessing)\n"
   ]
  },
  {
   "cell_type": "code",
   "execution_count": 15,
   "metadata": {},
   "outputs": [
    {
     "data": {
      "text/plain": [
       "array([[1, 4, 1, 1],\n",
       "       [1, 4, 1, 2],\n",
       "       [1, 5, 1, 1],\n",
       "       [1, 5, 1, 2],\n",
       "       [1, 6, 1, 1]], dtype=object)"
      ]
     },
     "execution_count": 15,
     "metadata": {},
     "output_type": "execute_result"
    }
   ],
   "source": [
    "from sklearn import preprocessing\n",
    "le_disease = preprocessing.LabelEncoder()\n",
    "le_disease.fit([  'diarrhea','gastritis','arthritis','migraine'])\n",
    "X[:,0] = le_disease.transform(X[:,0])\n",
    "\n",
    "le_gender = preprocessing.LabelEncoder()\n",
    "le_gender.fit(['female','male'])\n",
    "X[:,2] = le_gender.transform(X[:,2]) \n",
    "\n",
    "  # le_age = preprocessing.LabelEncoder()\n",
    "  # le_age.fit([   '4',  '5',  '6',  '7',  '8',  '9', '10', '11', '12', '13', '14', '15', '16', '17' ,'18', '19', '20', '21', '22', '23', '24', '25', '26', '27',\n",
    "  # '28', '29', '30', '31'])\n",
    "  # X[:,1] = le_age.transform(X[:,1])\n",
    "\n",
    "le_severity = preprocessing.LabelEncoder()\n",
    "le_severity.fit([ 'LOW', 'NORMAL', 'HIGH'])\n",
    "X[:,3] = le_severity.transform(X[:,3])\n",
    "\n",
    "\n",
    "\n",
    "\n",
    "X[0:5]"
   ]
  },
  {
   "cell_type": "markdown",
   "metadata": {},
   "source": [
    "#### Cross Validating"
   ]
  },
  {
   "cell_type": "code",
   "execution_count": 16,
   "metadata": {},
   "outputs": [],
   "source": [
    "import warnings\n",
    "\n",
    "# Ignoring User Warnings\n",
    "warnings.simplefilter(action='ignore', category=UserWarning)"
   ]
  },
  {
   "cell_type": "code",
   "execution_count": 17,
   "metadata": {},
   "outputs": [],
   "source": [
    "max_depth_values = [1, 2, 3, 4, 5, 6, 7, 8, 9, 10]"
   ]
  },
  {
   "cell_type": "code",
   "execution_count": 18,
   "metadata": {},
   "outputs": [
    {
     "name": "stdout",
     "output_type": "stream",
     "text": [
      "max_depth =  1 : mean accuracy =  29.969718992248062\n",
      "max_depth =  2 : mean accuracy =  45.18653100775194\n",
      "max_depth =  3 : mean accuracy =  68.63493217054264\n",
      "max_depth =  4 : mean accuracy =  77.95542635658916\n",
      "max_depth =  5 : mean accuracy =  86.96160368217053\n",
      "max_depth =  6 : mean accuracy =  95.1937984496124\n",
      "max_depth =  7 : mean accuracy =  95.1937984496124\n",
      "max_depth =  8 : mean accuracy =  95.1937984496124\n",
      "max_depth =  9 : mean accuracy =  95.1937984496124\n",
      "max_depth =  10 : mean accuracy =  95.1937984496124\n"
     ]
    }
   ],
   "source": [
    "from sklearn.model_selection import cross_val_score\n",
    "\n",
    "for max_depth in max_depth_values:\n",
    "    model = DecisionTreeClassifier(max_depth=max_depth, random_state=42)\n",
    "    scores = cross_val_score(model, X, y, cv=10)\n",
    "    mean_score = scores.mean()\n",
    "    print(\"max_depth = \", max_depth, \":\", \"mean accuracy = \", mean_score*100 )"
   ]
  },
  {
   "cell_type": "markdown",
   "metadata": {
    "id": "pUGS99926qf8"
   },
   "source": [
    "#### Split train and test data"
   ]
  },
  {
   "cell_type": "code",
   "execution_count": 19,
   "metadata": {
    "id": "HTQbrMp36qf8"
   },
   "outputs": [],
   "source": [
    "X_trainset, X_testset, y_trainset, y_testset = train_test_split(X, y, test_size=0.3, random_state=1)"
   ]
  },
  {
   "cell_type": "markdown",
   "metadata": {},
   "source": [
    "#### Saving the train data as a CSV file"
   ]
  },
  {
   "cell_type": "code",
   "execution_count": 20,
   "metadata": {},
   "outputs": [],
   "source": [
    "# Save the train data as a CSV file\n",
    "train_data = pd.DataFrame(X_trainset)\n",
    "train_data['target'] = y_trainset\n",
    "train_data.to_csv(\"Datasets/train_data.csv\", index=False)"
   ]
  },
  {
   "cell_type": "markdown",
   "metadata": {},
   "source": [
    "#### Saving test Data as CSV file"
   ]
  },
  {
   "cell_type": "code",
   "execution_count": 21,
   "metadata": {},
   "outputs": [],
   "source": [
    "# Save the test data as a CSV file\n",
    "test_data = pd.DataFrame(X_testset)\n",
    "test_data['target'] = y_testset\n",
    "test_data.to_csv('Datasets/test_data.csv', index=False)"
   ]
  },
  {
   "cell_type": "markdown",
   "metadata": {
    "id": "xFjKvozw6qf9"
   },
   "source": [
    "#### Printing the shape of X_trainset and y_trainset. Ensure that the dimensions match\n"
   ]
  },
  {
   "cell_type": "code",
   "execution_count": 22,
   "metadata": {
    "colab": {
     "base_uri": "https://localhost:8080/"
    },
    "id": "xBhLJyEe6qf9",
    "outputId": "a4e60773-6130-48ab-d87b-894c492576cc"
   },
   "outputs": [
    {
     "name": "stdout",
     "output_type": "stream",
     "text": [
      "(901, 4)\n",
      "(901,)\n"
     ]
    }
   ],
   "source": [
    "print(X_trainset.shape)\n",
    "print(y_trainset.shape)"
   ]
  },
  {
   "cell_type": "markdown",
   "metadata": {
    "id": "Db3cIQMw6qf-"
   },
   "source": [
    "#### Print the shape of X_testset and y_testset. Ensure that the dimensions match\n"
   ]
  },
  {
   "cell_type": "code",
   "execution_count": 23,
   "metadata": {
    "colab": {
     "base_uri": "https://localhost:8080/"
    },
    "id": "uRGs_3N86qf-",
    "outputId": "ff621aa5-dbff-428e-b1f8-34753811a1a6"
   },
   "outputs": [
    {
     "name": "stdout",
     "output_type": "stream",
     "text": [
      "(387, 4)\n",
      "(387,)\n"
     ]
    }
   ],
   "source": [
    "print(X_testset.shape)\n",
    "print(y_testset.shape)\n"
   ]
  },
  {
   "cell_type": "markdown",
   "metadata": {},
   "source": [
    "#### Checking for any null values in both test and train dataset after spliting   "
   ]
  },
  {
   "cell_type": "code",
   "execution_count": 24,
   "metadata": {},
   "outputs": [
    {
     "data": {
      "text/plain": [
       "False"
      ]
     },
     "execution_count": 24,
     "metadata": {},
     "output_type": "execute_result"
    }
   ],
   "source": [
    "test_data.isnull().values.any()"
   ]
  },
  {
   "cell_type": "code",
   "execution_count": 25,
   "metadata": {},
   "outputs": [
    {
     "data": {
      "text/plain": [
       "False"
      ]
     },
     "execution_count": 25,
     "metadata": {},
     "output_type": "execute_result"
    }
   ],
   "source": [
    "train_data.isnull().values.any()"
   ]
  },
  {
   "cell_type": "markdown",
   "metadata": {
    "id": "1_ng1uZU6qf_"
   },
   "source": [
    "<hr>\n",
    "\n",
    "<div id=\"modeling\">\n",
    "    <h2>Modeling</h2>\n",
    "</div>\n"
   ]
  },
  {
   "cell_type": "code",
   "execution_count": 26,
   "metadata": {
    "colab": {
     "base_uri": "https://localhost:8080/",
     "height": 74
    },
    "id": "dON5860E6qf_",
    "outputId": "5c671e91-1d47-4c71-dcf2-9f7830db9ae6"
   },
   "outputs": [
    {
     "data": {
      "text/html": [
       "<style>#sk-container-id-1 {color: black;}#sk-container-id-1 pre{padding: 0;}#sk-container-id-1 div.sk-toggleable {background-color: white;}#sk-container-id-1 label.sk-toggleable__label {cursor: pointer;display: block;width: 100%;margin-bottom: 0;padding: 0.3em;box-sizing: border-box;text-align: center;}#sk-container-id-1 label.sk-toggleable__label-arrow:before {content: \"▸\";float: left;margin-right: 0.25em;color: #696969;}#sk-container-id-1 label.sk-toggleable__label-arrow:hover:before {color: black;}#sk-container-id-1 div.sk-estimator:hover label.sk-toggleable__label-arrow:before {color: black;}#sk-container-id-1 div.sk-toggleable__content {max-height: 0;max-width: 0;overflow: hidden;text-align: left;background-color: #f0f8ff;}#sk-container-id-1 div.sk-toggleable__content pre {margin: 0.2em;color: black;border-radius: 0.25em;background-color: #f0f8ff;}#sk-container-id-1 input.sk-toggleable__control:checked~div.sk-toggleable__content {max-height: 200px;max-width: 100%;overflow: auto;}#sk-container-id-1 input.sk-toggleable__control:checked~label.sk-toggleable__label-arrow:before {content: \"▾\";}#sk-container-id-1 div.sk-estimator input.sk-toggleable__control:checked~label.sk-toggleable__label {background-color: #d4ebff;}#sk-container-id-1 div.sk-label input.sk-toggleable__control:checked~label.sk-toggleable__label {background-color: #d4ebff;}#sk-container-id-1 input.sk-hidden--visually {border: 0;clip: rect(1px 1px 1px 1px);clip: rect(1px, 1px, 1px, 1px);height: 1px;margin: -1px;overflow: hidden;padding: 0;position: absolute;width: 1px;}#sk-container-id-1 div.sk-estimator {font-family: monospace;background-color: #f0f8ff;border: 1px dotted black;border-radius: 0.25em;box-sizing: border-box;margin-bottom: 0.5em;}#sk-container-id-1 div.sk-estimator:hover {background-color: #d4ebff;}#sk-container-id-1 div.sk-parallel-item::after {content: \"\";width: 100%;border-bottom: 1px solid gray;flex-grow: 1;}#sk-container-id-1 div.sk-label:hover label.sk-toggleable__label {background-color: #d4ebff;}#sk-container-id-1 div.sk-serial::before {content: \"\";position: absolute;border-left: 1px solid gray;box-sizing: border-box;top: 0;bottom: 0;left: 50%;z-index: 0;}#sk-container-id-1 div.sk-serial {display: flex;flex-direction: column;align-items: center;background-color: white;padding-right: 0.2em;padding-left: 0.2em;position: relative;}#sk-container-id-1 div.sk-item {position: relative;z-index: 1;}#sk-container-id-1 div.sk-parallel {display: flex;align-items: stretch;justify-content: center;background-color: white;position: relative;}#sk-container-id-1 div.sk-item::before, #sk-container-id-1 div.sk-parallel-item::before {content: \"\";position: absolute;border-left: 1px solid gray;box-sizing: border-box;top: 0;bottom: 0;left: 50%;z-index: -1;}#sk-container-id-1 div.sk-parallel-item {display: flex;flex-direction: column;z-index: 1;position: relative;background-color: white;}#sk-container-id-1 div.sk-parallel-item:first-child::after {align-self: flex-end;width: 50%;}#sk-container-id-1 div.sk-parallel-item:last-child::after {align-self: flex-start;width: 50%;}#sk-container-id-1 div.sk-parallel-item:only-child::after {width: 0;}#sk-container-id-1 div.sk-dashed-wrapped {border: 1px dashed gray;margin: 0 0.4em 0.5em 0.4em;box-sizing: border-box;padding-bottom: 0.4em;background-color: white;}#sk-container-id-1 div.sk-label label {font-family: monospace;font-weight: bold;display: inline-block;line-height: 1.2em;}#sk-container-id-1 div.sk-label-container {text-align: center;}#sk-container-id-1 div.sk-container {/* jupyter's `normalize.less` sets `[hidden] { display: none; }` but bootstrap.min.css set `[hidden] { display: none !important; }` so we also need the `!important` here to be able to override the default hidden behavior on the sphinx rendered scikit-learn.org. See: https://github.com/scikit-learn/scikit-learn/issues/21755 */display: inline-block !important;position: relative;}#sk-container-id-1 div.sk-text-repr-fallback {display: none;}</style><div id=\"sk-container-id-1\" class=\"sk-top-container\"><div class=\"sk-text-repr-fallback\"><pre>DecisionTreeClassifier(criterion=&#x27;entropy&#x27;, max_depth=7)</pre><b>In a Jupyter environment, please rerun this cell to show the HTML representation or trust the notebook. <br />On GitHub, the HTML representation is unable to render, please try loading this page with nbviewer.org.</b></div><div class=\"sk-container\" hidden><div class=\"sk-item\"><div class=\"sk-estimator sk-toggleable\"><input class=\"sk-toggleable__control sk-hidden--visually\" id=\"sk-estimator-id-1\" type=\"checkbox\" checked><label for=\"sk-estimator-id-1\" class=\"sk-toggleable__label sk-toggleable__label-arrow\">DecisionTreeClassifier</label><div class=\"sk-toggleable__content\"><pre>DecisionTreeClassifier(criterion=&#x27;entropy&#x27;, max_depth=7)</pre></div></div></div></div></div>"
      ],
      "text/plain": [
       "DecisionTreeClassifier(criterion='entropy', max_depth=7)"
      ]
     },
     "execution_count": 26,
     "metadata": {},
     "output_type": "execute_result"
    }
   ],
   "source": [
    "drugTree = DecisionTreeClassifier(criterion=\"entropy\", max_depth = 7)\n",
    "drugTree # it shows the default parameters"
   ]
  },
  {
   "cell_type": "markdown",
   "metadata": {
    "id": "c9xXMkbc6qgA"
   },
   "source": [
    "fitting the data with the training feature matrix <b> X_trainset </b> and training  response vector <b> y_trainset </b>\n"
   ]
  },
  {
   "cell_type": "code",
   "execution_count": 27,
   "metadata": {
    "colab": {
     "base_uri": "https://localhost:8080/",
     "height": 74
    },
    "id": "lxTtVU0g6qgA",
    "outputId": "8cff4dda-78c8-4e97-fc11-f1c6ce1cce4f"
   },
   "outputs": [
    {
     "data": {
      "text/html": [
       "<style>#sk-container-id-2 {color: black;}#sk-container-id-2 pre{padding: 0;}#sk-container-id-2 div.sk-toggleable {background-color: white;}#sk-container-id-2 label.sk-toggleable__label {cursor: pointer;display: block;width: 100%;margin-bottom: 0;padding: 0.3em;box-sizing: border-box;text-align: center;}#sk-container-id-2 label.sk-toggleable__label-arrow:before {content: \"▸\";float: left;margin-right: 0.25em;color: #696969;}#sk-container-id-2 label.sk-toggleable__label-arrow:hover:before {color: black;}#sk-container-id-2 div.sk-estimator:hover label.sk-toggleable__label-arrow:before {color: black;}#sk-container-id-2 div.sk-toggleable__content {max-height: 0;max-width: 0;overflow: hidden;text-align: left;background-color: #f0f8ff;}#sk-container-id-2 div.sk-toggleable__content pre {margin: 0.2em;color: black;border-radius: 0.25em;background-color: #f0f8ff;}#sk-container-id-2 input.sk-toggleable__control:checked~div.sk-toggleable__content {max-height: 200px;max-width: 100%;overflow: auto;}#sk-container-id-2 input.sk-toggleable__control:checked~label.sk-toggleable__label-arrow:before {content: \"▾\";}#sk-container-id-2 div.sk-estimator input.sk-toggleable__control:checked~label.sk-toggleable__label {background-color: #d4ebff;}#sk-container-id-2 div.sk-label input.sk-toggleable__control:checked~label.sk-toggleable__label {background-color: #d4ebff;}#sk-container-id-2 input.sk-hidden--visually {border: 0;clip: rect(1px 1px 1px 1px);clip: rect(1px, 1px, 1px, 1px);height: 1px;margin: -1px;overflow: hidden;padding: 0;position: absolute;width: 1px;}#sk-container-id-2 div.sk-estimator {font-family: monospace;background-color: #f0f8ff;border: 1px dotted black;border-radius: 0.25em;box-sizing: border-box;margin-bottom: 0.5em;}#sk-container-id-2 div.sk-estimator:hover {background-color: #d4ebff;}#sk-container-id-2 div.sk-parallel-item::after {content: \"\";width: 100%;border-bottom: 1px solid gray;flex-grow: 1;}#sk-container-id-2 div.sk-label:hover label.sk-toggleable__label {background-color: #d4ebff;}#sk-container-id-2 div.sk-serial::before {content: \"\";position: absolute;border-left: 1px solid gray;box-sizing: border-box;top: 0;bottom: 0;left: 50%;z-index: 0;}#sk-container-id-2 div.sk-serial {display: flex;flex-direction: column;align-items: center;background-color: white;padding-right: 0.2em;padding-left: 0.2em;position: relative;}#sk-container-id-2 div.sk-item {position: relative;z-index: 1;}#sk-container-id-2 div.sk-parallel {display: flex;align-items: stretch;justify-content: center;background-color: white;position: relative;}#sk-container-id-2 div.sk-item::before, #sk-container-id-2 div.sk-parallel-item::before {content: \"\";position: absolute;border-left: 1px solid gray;box-sizing: border-box;top: 0;bottom: 0;left: 50%;z-index: -1;}#sk-container-id-2 div.sk-parallel-item {display: flex;flex-direction: column;z-index: 1;position: relative;background-color: white;}#sk-container-id-2 div.sk-parallel-item:first-child::after {align-self: flex-end;width: 50%;}#sk-container-id-2 div.sk-parallel-item:last-child::after {align-self: flex-start;width: 50%;}#sk-container-id-2 div.sk-parallel-item:only-child::after {width: 0;}#sk-container-id-2 div.sk-dashed-wrapped {border: 1px dashed gray;margin: 0 0.4em 0.5em 0.4em;box-sizing: border-box;padding-bottom: 0.4em;background-color: white;}#sk-container-id-2 div.sk-label label {font-family: monospace;font-weight: bold;display: inline-block;line-height: 1.2em;}#sk-container-id-2 div.sk-label-container {text-align: center;}#sk-container-id-2 div.sk-container {/* jupyter's `normalize.less` sets `[hidden] { display: none; }` but bootstrap.min.css set `[hidden] { display: none !important; }` so we also need the `!important` here to be able to override the default hidden behavior on the sphinx rendered scikit-learn.org. See: https://github.com/scikit-learn/scikit-learn/issues/21755 */display: inline-block !important;position: relative;}#sk-container-id-2 div.sk-text-repr-fallback {display: none;}</style><div id=\"sk-container-id-2\" class=\"sk-top-container\"><div class=\"sk-text-repr-fallback\"><pre>DecisionTreeClassifier(criterion=&#x27;entropy&#x27;, max_depth=7)</pre><b>In a Jupyter environment, please rerun this cell to show the HTML representation or trust the notebook. <br />On GitHub, the HTML representation is unable to render, please try loading this page with nbviewer.org.</b></div><div class=\"sk-container\" hidden><div class=\"sk-item\"><div class=\"sk-estimator sk-toggleable\"><input class=\"sk-toggleable__control sk-hidden--visually\" id=\"sk-estimator-id-2\" type=\"checkbox\" checked><label for=\"sk-estimator-id-2\" class=\"sk-toggleable__label sk-toggleable__label-arrow\">DecisionTreeClassifier</label><div class=\"sk-toggleable__content\"><pre>DecisionTreeClassifier(criterion=&#x27;entropy&#x27;, max_depth=7)</pre></div></div></div></div></div>"
      ],
      "text/plain": [
       "DecisionTreeClassifier(criterion='entropy', max_depth=7)"
      ]
     },
     "execution_count": 27,
     "metadata": {},
     "output_type": "execute_result"
    }
   ],
   "source": [
    "drugTree.fit(X_trainset,y_trainset)"
   ]
  },
  {
   "cell_type": "markdown",
   "metadata": {
    "id": "6k2wb2E_6qgA"
   },
   "source": [
    "<hr>\n",
    "\n",
    "<div id=\"prediction\">\n",
    "    <h2>Prediction</h2>\n",
    "    Making some <b>predictions</b> on the testing dataset and store it into a variable called <b>predTree</b>.\n",
    "</div>\n"
   ]
  },
  {
   "cell_type": "code",
   "execution_count": 28,
   "metadata": {
    "id": "v1_r-5Fu6qgB"
   },
   "outputs": [],
   "source": [
    "predTree = drugTree.predict(X_testset)"
   ]
  },
  {
   "cell_type": "code",
   "execution_count": 29,
   "metadata": {
    "colab": {
     "base_uri": "https://localhost:8080/"
    },
    "id": "_xWsx_UF56PW",
    "outputId": "e75a20f5-ba6e-4b7f-9058-2097bcb9a03f"
   },
   "outputs": [],
   "source": [
    "train = drugTree.predict(X_trainset)"
   ]
  },
  {
   "cell_type": "markdown",
   "metadata": {
    "id": "Cvj8ZEct6qgB"
   },
   "source": [
    "Displaying out <b>predTree</b> and <b>y_testset</b> if you want to visually compare the prediction to the actual values.\n"
   ]
  },
  {
   "cell_type": "code",
   "execution_count": 30,
   "metadata": {
    "colab": {
     "base_uri": "https://localhost:8080/"
    },
    "id": "jijBQrX76qgB",
    "outputId": "17d14be0-69e9-44b2-dc5e-a7cb9f441d3f",
    "scrolled": true
   },
   "outputs": [
    {
     "name": "stdout",
     "output_type": "stream",
     "text": [
      "['PPIs, H. pylori treatment' 'NSAIDs, Caffeine combinations'\n",
      " 'Loperamide, Fluoroquinolone' 'Biologicals, Corticosteroids'\n",
      " 'NSAIDs, Caffeine combinations' 'Oral rehydration salts, Probiotics'\n",
      " 'Loperamide, Fluoroquinolone' 'Antacids, Sucralfate'\n",
      " 'NSAIDs, Topical treatments' 'Biologicals, Corticosteroids'\n",
      " 'Triptans, Beta-blockers/Anticonvulsants' 'NSAIDs, Topical treatments'\n",
      " 'Bismuth subsalicylate, Dietary adjustments' 'NSAIDs, Topical treatments'\n",
      " 'NSAIDs, Topical treatments' 'Loperamide, Fluoroquinolone'\n",
      " 'Triptans, Beta-blockers/Anticonvulsants' 'PPIs, H. pylori treatment'\n",
      " 'Biologicals, Steroids' 'Bismuth subsalicylate, Dietary adjustments']\n",
      "['PPIs, H. pylori treatment' 'NSAIDs, Caffeine combinations'\n",
      " 'Loperamide, Fluoroquinolone' 'Biologicals, Corticosteroids'\n",
      " 'NSAIDs, Caffeine combinations' 'Oral rehydration salts, Probiotics'\n",
      " 'Loperamide, Fluoroquinolone' 'Antacids, Sucralfate'\n",
      " 'NSAIDs, Topical treatments' 'Biologicals, Corticosteroids'\n",
      " 'Triptans, Beta-blockers/Anticonvulsants' 'NSAIDs, Topical treatments'\n",
      " 'Bismuth subsalicylate, Dietary adjustments' 'NSAIDs, Topical treatments'\n",
      " 'NSAIDs, Topical treatments' 'Loperamide, Fluoroquinolone'\n",
      " 'Triptans, Beta-blockers/Anticonvulsants' 'PPIs, H. pylori treatment'\n",
      " 'Biologicals, Steroids' 'Bismuth subsalicylate, Dietary adjustments']\n"
     ]
    }
   ],
   "source": [
    "print (predTree [0:20])\n",
    "print (y_testset [0:20])\n"
   ]
  },
  {
   "cell_type": "markdown",
   "metadata": {
    "id": "hvBJtxKW6qgC"
   },
   "source": [
    "<hr>\n",
    "\n",
    "<div id=\"evaluation\">\n",
    "    <h2>Evaluation</h2>\n",
    "    \n",
    "    \n",
    "</div>\n",
    "\n",
    "#### Testing Accuracy"
   ]
  },
  {
   "cell_type": "code",
   "execution_count": 31,
   "metadata": {
    "colab": {
     "base_uri": "https://localhost:8080/"
    },
    "id": "nlLqPs696qgC",
    "outputId": "44319314-a42c-4520-8d35-c1c6383dffbc"
   },
   "outputs": [
    {
     "name": "stdout",
     "output_type": "stream",
     "text": [
      "DecisionTrees's Testing Accuracy:  1.0\n"
     ]
    }
   ],
   "source": [
    "from sklearn import metrics\n",
    "import matplotlib.pyplot as plt\n",
    "predictions_test =  metrics.accuracy_score(y_testset, predTree)\n",
    "print(\"DecisionTrees's Testing Accuracy: \",predictions_test)"
   ]
  },
  {
   "cell_type": "markdown",
   "metadata": {
    "id": "qViYVrJy6qgD"
   },
   "source": [
    "#### Calculating the accuracy score without sklearn\n"
   ]
  },
  {
   "cell_type": "code",
   "execution_count": 32,
   "metadata": {
    "colab": {
     "base_uri": "https://localhost:8080/"
    },
    "id": "37bm4yqJ6qgD",
    "outputId": "42291f7c-b6ba-46a1-d335-2b8704f90d1d"
   },
   "outputs": [
    {
     "name": "stdout",
     "output_type": "stream",
     "text": [
      "Testing Accuracy: 1.0\n"
     ]
    }
   ],
   "source": [
    "correct_labels=(predTree==y_testset).sum()\n",
    "total_labels=y_testset.shape[0]\n",
    "print(\"Testing Accuracy:\",(correct_labels/total_labels))"
   ]
  },
  {
   "cell_type": "markdown",
   "metadata": {},
   "source": [
    "#### Training Accuracy of the model"
   ]
  },
  {
   "cell_type": "code",
   "execution_count": 33,
   "metadata": {
    "colab": {
     "base_uri": "https://localhost:8080/"
    },
    "id": "fMsDpHTWgnES",
    "outputId": "651df5e0-be3b-4547-c694-62a800751d4c"
   },
   "outputs": [
    {
     "name": "stdout",
     "output_type": "stream",
     "text": [
      "DecisionTrees's Training Accuracy:  1.0\n"
     ]
    }
   ],
   "source": [
    "from sklearn.metrics import accuracy_score\n",
    "predictions_train = drugTree.predict(X_trainset)\n",
    "Train_acc = accuracy_score(y_trainset,predictions_train)\n",
    "print(\"DecisionTrees's Training Accuracy: \",Train_acc)"
   ]
  },
  {
   "cell_type": "markdown",
   "metadata": {
    "id": "7kMVlhcS6qgE"
   },
   "source": [
    "<hr>\n",
    "\n",
    "<div id=\"visualization\">\n",
    "    <h2>Visualization</h2>\n",
    "    Visualizing the tree\n",
    "</div>\n"
   ]
  },
  {
   "cell_type": "code",
   "execution_count": 34,
   "metadata": {
    "id": "DNinoUC26qgF"
   },
   "outputs": [],
   "source": [
    "from six import StringIO\n",
    "import pydotplus\n",
    "import graphviz\n",
    "import matplotlib.image as mpimg\n",
    "from sklearn import tree\n",
    "%matplotlib inline "
   ]
  },
  {
   "cell_type": "code",
   "execution_count": 35,
   "metadata": {
    "colab": {
     "base_uri": "https://localhost:8080/",
     "height": 372
    },
    "id": "vqnb_Su-6qgF",
    "outputId": "1f858a2c-430b-4582-ea33-552f70312452"
   },
   "outputs": [],
   "source": [
    "# dot_data = StringIO()\n",
    "# filename = \"drugTree.png\"\n",
    "# featureNames = my_data.columns[0:4]\n",
    "# targetNames = my_data[\"drug\"].unique().tolist()\n",
    "# out=tree.export_graphviz(drugTree,feature_names=featureNames, out_file=dot_data, class_names= np.unique(y_trainset), filled=True,  special_characters=True,rotate=False)\n",
    "# graph = pydotplus.graph_from_dot_data(dot_data.getvalue())\n",
    "# #graph.write_png(filename)\n",
    "# img = mpimg.imread(filename)\n",
    "# plt.figure(figsize=(100, 200))\n",
    "# plt.imshow(img,interpolation='nearest')"
   ]
  },
  {
   "cell_type": "markdown",
   "metadata": {
    "id": "Hx7vIzgBqZLt"
   },
   "source": [
    "# Evaluating on test dataset"
   ]
  },
  {
   "cell_type": "code",
   "execution_count": 36,
   "metadata": {
    "id": "3hld1qLf6qgG"
   },
   "outputs": [],
   "source": [
    "from sklearn.metrics import classification_report,confusion_matrix"
   ]
  },
  {
   "cell_type": "code",
   "execution_count": 37,
   "metadata": {
    "colab": {
     "base_uri": "https://localhost:8080/"
    },
    "id": "ZhVAb8ZfqX8g",
    "outputId": "5d83eb3a-dfd3-4b8e-cbba-ac190f44f7c0"
   },
   "outputs": [
    {
     "name": "stdout",
     "output_type": "stream",
     "text": [
      "                                            precision    recall  f1-score   support\n",
      "\n",
      "          Acetaminophen, Lifestyle changes       1.00      1.00      1.00         1\n",
      "                 Antacids, Dietary changes       1.00      1.00      1.00         1\n",
      "                      Antacids, Sucralfate       1.00      1.00      1.00        20\n",
      "              Biologicals, Corticosteroids       1.00      1.00      1.00        63\n",
      "                     Biologicals, Steroids       1.00      1.00      1.00         6\n",
      "Bismuth subsalicylate, Dietary adjustments       1.00      1.00      1.00        39\n",
      "                   H2 blockers, Probiotics       1.00      1.00      1.00         4\n",
      "                  Loperamide, Azithromycin       1.00      1.00      1.00         7\n",
      "               Loperamide, Fluoroquinolone       1.00      1.00      1.00        55\n",
      "             NSAIDs, Caffeine combinations       1.00      1.00      1.00        23\n",
      "                NSAIDs, Topical treatments       1.00      1.00      1.00        31\n",
      "                Naproxen, Physical therapy       1.00      1.00      1.00         1\n",
      "        Oral rehydration salts, Probiotics       1.00      1.00      1.00         8\n",
      "                 PPIs, H. pylori treatment       1.00      1.00      1.00        56\n",
      "       Pediatric Triptans, Preventive meds       1.00      1.00      1.00         5\n",
      "   Triptans, Beta-blockers/Anticonvulsants       1.00      1.00      1.00        67\n",
      "\n",
      "                                  accuracy                           1.00       387\n",
      "                                 macro avg       1.00      1.00      1.00       387\n",
      "                              weighted avg       1.00      1.00      1.00       387\n",
      "\n",
      "Confusion Matrix:\n",
      "[[ 1  0  0  0  0  0  0  0  0  0  0  0  0  0  0  0]\n",
      " [ 0  1  0  0  0  0  0  0  0  0  0  0  0  0  0  0]\n",
      " [ 0  0 20  0  0  0  0  0  0  0  0  0  0  0  0  0]\n",
      " [ 0  0  0 63  0  0  0  0  0  0  0  0  0  0  0  0]\n",
      " [ 0  0  0  0  6  0  0  0  0  0  0  0  0  0  0  0]\n",
      " [ 0  0  0  0  0 39  0  0  0  0  0  0  0  0  0  0]\n",
      " [ 0  0  0  0  0  0  4  0  0  0  0  0  0  0  0  0]\n",
      " [ 0  0  0  0  0  0  0  7  0  0  0  0  0  0  0  0]\n",
      " [ 0  0  0  0  0  0  0  0 55  0  0  0  0  0  0  0]\n",
      " [ 0  0  0  0  0  0  0  0  0 23  0  0  0  0  0  0]\n",
      " [ 0  0  0  0  0  0  0  0  0  0 31  0  0  0  0  0]\n",
      " [ 0  0  0  0  0  0  0  0  0  0  0  1  0  0  0  0]\n",
      " [ 0  0  0  0  0  0  0  0  0  0  0  0  8  0  0  0]\n",
      " [ 0  0  0  0  0  0  0  0  0  0  0  0  0 56  0  0]\n",
      " [ 0  0  0  0  0  0  0  0  0  0  0  0  0  0  5  0]\n",
      " [ 0  0  0  0  0  0  0  0  0  0  0  0  0  0  0 67]]\n"
     ]
    }
   ],
   "source": [
    "print(classification_report(y_testset, predTree, zero_division = 1))\n",
    "# Generating the confusion matrix for evaluating the testing corpus\n",
    "conf_matrix = confusion_matrix(y_testset, predTree)\n",
    "print(\"Confusion Matrix:\")\n",
    "print(conf_matrix)"
   ]
  },
  {
   "cell_type": "markdown",
   "metadata": {
    "id": "K0Cp_rkyyYCh"
   },
   "source": [
    "# Evaluating on Training dataset"
   ]
  },
  {
   "cell_type": "code",
   "execution_count": 38,
   "metadata": {
    "colab": {
     "base_uri": "https://localhost:8080/"
    },
    "id": "W4bqIOpvya_2",
    "outputId": "3815d06a-e4ed-423b-90a6-6b1ba0d09c0c"
   },
   "outputs": [
    {
     "name": "stdout",
     "output_type": "stream",
     "text": [
      "                                            precision    recall  f1-score   support\n",
      "\n",
      "          Acetaminophen, Lifestyle changes       1.00      1.00      1.00         7\n",
      "                 Antacids, Dietary changes       1.00      1.00      1.00         7\n",
      "                      Antacids, Sucralfate       1.00      1.00      1.00        78\n",
      "              Biologicals, Corticosteroids       1.00      1.00      1.00       133\n",
      "                     Biologicals, Steroids       1.00      1.00      1.00        10\n",
      "Bismuth subsalicylate, Dietary adjustments       1.00      1.00      1.00        59\n",
      "                   H2 blockers, Probiotics       1.00      1.00      1.00        12\n",
      "                  Loperamide, Azithromycin       1.00      1.00      1.00        17\n",
      "               Loperamide, Fluoroquinolone       1.00      1.00      1.00       141\n",
      "             NSAIDs, Caffeine combinations       1.00      1.00      1.00        75\n",
      "                NSAIDs, Topical treatments       1.00      1.00      1.00        67\n",
      "                Naproxen, Physical therapy       1.00      1.00      1.00         7\n",
      "        Oral rehydration salts, Probiotics       1.00      1.00      1.00         8\n",
      "                 PPIs, H. pylori treatment       1.00      1.00      1.00       140\n",
      "       Pediatric Triptans, Preventive meds       1.00      1.00      1.00        11\n",
      "   Triptans, Beta-blockers/Anticonvulsants       1.00      1.00      1.00       129\n",
      "\n",
      "                                  accuracy                           1.00       901\n",
      "                                 macro avg       1.00      1.00      1.00       901\n",
      "                              weighted avg       1.00      1.00      1.00       901\n",
      "\n",
      "Confusion matrix (training):\n",
      " [[  7   0   0   0   0   0   0   0   0   0   0   0   0   0   0   0]\n",
      " [  0   7   0   0   0   0   0   0   0   0   0   0   0   0   0   0]\n",
      " [  0   0  78   0   0   0   0   0   0   0   0   0   0   0   0   0]\n",
      " [  0   0   0 133   0   0   0   0   0   0   0   0   0   0   0   0]\n",
      " [  0   0   0   0  10   0   0   0   0   0   0   0   0   0   0   0]\n",
      " [  0   0   0   0   0  59   0   0   0   0   0   0   0   0   0   0]\n",
      " [  0   0   0   0   0   0  12   0   0   0   0   0   0   0   0   0]\n",
      " [  0   0   0   0   0   0   0  17   0   0   0   0   0   0   0   0]\n",
      " [  0   0   0   0   0   0   0   0 141   0   0   0   0   0   0   0]\n",
      " [  0   0   0   0   0   0   0   0   0  75   0   0   0   0   0   0]\n",
      " [  0   0   0   0   0   0   0   0   0   0  67   0   0   0   0   0]\n",
      " [  0   0   0   0   0   0   0   0   0   0   0   7   0   0   0   0]\n",
      " [  0   0   0   0   0   0   0   0   0   0   0   0   8   0   0   0]\n",
      " [  0   0   0   0   0   0   0   0   0   0   0   0   0 140   0   0]\n",
      " [  0   0   0   0   0   0   0   0   0   0   0   0   0   0  11   0]\n",
      " [  0   0   0   0   0   0   0   0   0   0   0   0   0   0   0 129]]\n"
     ]
    }
   ],
   "source": [
    "print(classification_report(y_trainset,predictions_train, zero_division = 1))\n",
    "# Generating the confusion matrix for evaluating the training corpus\n",
    "from sklearn.metrics import confusion_matrix\n",
    " \n",
    "predictions_train = drugTree.predict(X_trainset)\n",
    "confusion_matrix_train = confusion_matrix(y_trainset, predictions_train)\n",
    "print(\"Confusion matrix (training):\\n\", confusion_matrix_train)"
   ]
  },
  {
   "cell_type": "markdown",
   "metadata": {},
   "source": [
    "### Visualizing Confusion Matrix"
   ]
  },
  {
   "cell_type": "code",
   "execution_count": 39,
   "metadata": {
    "id": "NPe-th-35Cvd"
   },
   "outputs": [],
   "source": [
    "import numpy as np\n",
    "import pandas as pd\n",
    "import os\n",
    "from sklearn.preprocessing import LabelEncoder\n",
    "from sklearn.model_selection import train_test_split\n",
    "from sklearn.model_selection import RandomizedSearchCV, GridSearchCV\n",
    "from sklearn import tree\n",
    "from sklearn.metrics import accuracy_score,confusion_matrix\n",
    "import seaborn as sns\n",
    "import matplotlib.pyplot as plt"
   ]
  },
  {
   "cell_type": "code",
   "execution_count": 40,
   "metadata": {
    "colab": {
     "base_uri": "https://localhost:8080/"
    },
    "id": "zyHUn4uV_ZIJ",
    "outputId": "2b29a092-3ed0-49ab-aad1-a213fe2e3ea8"
   },
   "outputs": [
    {
     "name": "stdout",
     "output_type": "stream",
     "text": [
      "[[ 1  0  0  0  0  0  0  0  0  0  0  0  0  0  0  0]\n",
      " [ 0  1  0  0  0  0  0  0  0  0  0  0  0  0  0  0]\n",
      " [ 0  0 20  0  0  0  0  0  0  0  0  0  0  0  0  0]\n",
      " [ 0  0  0 63  0  0  0  0  0  0  0  0  0  0  0  0]\n",
      " [ 0  0  0  0  6  0  0  0  0  0  0  0  0  0  0  0]\n",
      " [ 0  0  0  0  0 39  0  0  0  0  0  0  0  0  0  0]\n",
      " [ 0  0  0  0  0  0  4  0  0  0  0  0  0  0  0  0]\n",
      " [ 0  0  0  0  0  0  0  7  0  0  0  0  0  0  0  0]\n",
      " [ 0  0  0  0  0  0  0  0 55  0  0  0  0  0  0  0]\n",
      " [ 0  0  0  0  0  0  0  0  0 23  0  0  0  0  0  0]\n",
      " [ 0  0  0  0  0  0  0  0  0  0 31  0  0  0  0  0]\n",
      " [ 0  0  0  0  0  0  0  0  0  0  0  1  0  0  0  0]\n",
      " [ 0  0  0  0  0  0  0  0  0  0  0  0  8  0  0  0]\n",
      " [ 0  0  0  0  0  0  0  0  0  0  0  0  0 56  0  0]\n",
      " [ 0  0  0  0  0  0  0  0  0  0  0  0  0  0  5  0]\n",
      " [ 0  0  0  0  0  0  0  0  0  0  0  0  0  0  0 67]]\n"
     ]
    }
   ],
   "source": [
    "conf_matrix = confusion_matrix(y_testset, predTree )\n",
    "print(conf_matrix)"
   ]
  },
  {
   "cell_type": "code",
   "execution_count": 41,
   "metadata": {
    "colab": {
     "base_uri": "https://localhost:8080/",
     "height": 603
    },
    "id": "Q_hMuW1m5FQz",
    "outputId": "8b8d9c1c-2b80-4288-dc02-37ef95f6bc05",
    "scrolled": false
   },
   "outputs": [
    {
     "name": "stdout",
     "output_type": "stream",
     "text": [
      "Train score 1.0\n",
      "Test score 1.0\n"
     ]
    },
    {
     "data": {
      "text/plain": [
       "<sklearn.metrics._plot.confusion_matrix.ConfusionMatrixDisplay at 0x281fcbe1450>"
      ]
     },
     "execution_count": 41,
     "metadata": {},
     "output_type": "execute_result"
    },
    {
     "data": {
      "image/png": "[encoded data removed]",
      "text/plain": [
       "<Figure size 640x480 with 2 Axes>"
      ]
     },
     "metadata": {},
     "output_type": "display_data"
    },
    {
     "data": {
      "image/png": "[encoded data removed]",
      "text/plain": [
       "<Figure size 640x480 with 2 Axes>"
      ]
     },
     "metadata": {},
     "output_type": "display_data"
    }
   ],
   "source": [
    "from sklearn.metrics._plot.confusion_matrix import ConfusionMatrixDisplay\n",
    "from sklearn.metrics import confusion_matrix\n",
    "print(f'Train score {accuracy_score(train,y_trainset)}')\n",
    "print(f'Test score {accuracy_score(predTree,y_testset)}')\n",
    "conf_test = ConfusionMatrixDisplay(confusion_matrix=conf_matrix)\n",
    "conf_train = ConfusionMatrixDisplay(confusion_matrix= confusion_matrix_train)\n",
    "conf_test.plot()\n",
    "conf_train.plot()"
   ]
  },
  {
   "cell_type": "markdown",
   "metadata": {},
   "source": [
    "#### Saving as a pickle file"
   ]
  },
  {
   "cell_type": "code",
   "execution_count": 42,
   "metadata": {},
   "outputs": [],
   "source": [
    "import pickle \n",
    "pickle.dump(drugTree,open(\"drugTree.pkl\",\"wb\"))"
   ]
  },
  {
   "cell_type": "code",
   "execution_count": 43,
   "metadata": {
    "scrolled": true
   },
   "outputs": [
    {
     "data": {
      "text/plain": [
       "array(['PPIs, H. pylori treatment', 'NSAIDs, Caffeine combinations',\n",
       "       'Loperamide, Fluoroquinolone', 'Biologicals, Corticosteroids',\n",
       "       'NSAIDs, Caffeine combinations',\n",
       "       'Oral rehydration salts, Probiotics',\n",
       "       'Loperamide, Fluoroquinolone', 'Antacids, Sucralfate',\n",
       "       'NSAIDs, Topical treatments', 'Biologicals, Corticosteroids',\n",
       "       'Triptans, Beta-blockers/Anticonvulsants',\n",
       "       'NSAIDs, Topical treatments',\n",
       "       'Bismuth subsalicylate, Dietary adjustments',\n",
       "       'NSAIDs, Topical treatments', 'NSAIDs, Topical treatments',\n",
       "       'Loperamide, Fluoroquinolone',\n",
       "       'Triptans, Beta-blockers/Anticonvulsants',\n",
       "       'PPIs, H. pylori treatment', 'Biologicals, Steroids',\n",
       "       'Bismuth subsalicylate, Dietary adjustments',\n",
       "       'Loperamide, Fluoroquinolone', 'NSAIDs, Caffeine combinations',\n",
       "       'Triptans, Beta-blockers/Anticonvulsants',\n",
       "       'NSAIDs, Topical treatments', 'Loperamide, Fluoroquinolone',\n",
       "       'Triptans, Beta-blockers/Anticonvulsants',\n",
       "       'Bismuth subsalicylate, Dietary adjustments',\n",
       "       'PPIs, H. pylori treatment', 'Biologicals, Corticosteroids',\n",
       "       'Pediatric Triptans, Preventive meds', 'PPIs, H. pylori treatment',\n",
       "       'Biologicals, Corticosteroids',\n",
       "       'Bismuth subsalicylate, Dietary adjustments',\n",
       "       'PPIs, H. pylori treatment', 'Antacids, Sucralfate',\n",
       "       'Antacids, Sucralfate', 'NSAIDs, Topical treatments',\n",
       "       'Biologicals, Corticosteroids', 'NSAIDs, Topical treatments',\n",
       "       'Loperamide, Fluoroquinolone',\n",
       "       'Bismuth subsalicylate, Dietary adjustments',\n",
       "       'Bismuth subsalicylate, Dietary adjustments',\n",
       "       'PPIs, H. pylori treatment',\n",
       "       'Triptans, Beta-blockers/Anticonvulsants',\n",
       "       'Triptans, Beta-blockers/Anticonvulsants',\n",
       "       'PPIs, H. pylori treatment',\n",
       "       'Triptans, Beta-blockers/Anticonvulsants',\n",
       "       'NSAIDs, Caffeine combinations', 'Biologicals, Corticosteroids',\n",
       "       'Loperamide, Fluoroquinolone', 'PPIs, H. pylori treatment',\n",
       "       'Triptans, Beta-blockers/Anticonvulsants',\n",
       "       'NSAIDs, Topical treatments', 'NSAIDs, Caffeine combinations',\n",
       "       'Triptans, Beta-blockers/Anticonvulsants',\n",
       "       'H2 blockers, Probiotics', 'Biologicals, Corticosteroids',\n",
       "       'Triptans, Beta-blockers/Anticonvulsants',\n",
       "       'NSAIDs, Caffeine combinations', 'Biologicals, Corticosteroids',\n",
       "       'Loperamide, Fluoroquinolone',\n",
       "       'Triptans, Beta-blockers/Anticonvulsants',\n",
       "       'Biologicals, Corticosteroids',\n",
       "       'Triptans, Beta-blockers/Anticonvulsants',\n",
       "       'NSAIDs, Topical treatments', 'Loperamide, Fluoroquinolone',\n",
       "       'H2 blockers, Probiotics', 'Loperamide, Fluoroquinolone',\n",
       "       'Oral rehydration salts, Probiotics',\n",
       "       'Triptans, Beta-blockers/Anticonvulsants',\n",
       "       'Loperamide, Fluoroquinolone', 'NSAIDs, Topical treatments',\n",
       "       'NSAIDs, Caffeine combinations', 'NSAIDs, Topical treatments',\n",
       "       'Bismuth subsalicylate, Dietary adjustments',\n",
       "       'Loperamide, Fluoroquinolone', 'Biologicals, Corticosteroids',\n",
       "       'Triptans, Beta-blockers/Anticonvulsants',\n",
       "       'NSAIDs, Caffeine combinations',\n",
       "       'Bismuth subsalicylate, Dietary adjustments',\n",
       "       'Loperamide, Fluoroquinolone',\n",
       "       'Triptans, Beta-blockers/Anticonvulsants',\n",
       "       'Loperamide, Fluoroquinolone', 'PPIs, H. pylori treatment',\n",
       "       'PPIs, H. pylori treatment', 'PPIs, H. pylori treatment',\n",
       "       'Loperamide, Fluoroquinolone', 'Antacids, Sucralfate',\n",
       "       'Biologicals, Corticosteroids', 'Biologicals, Corticosteroids',\n",
       "       'Triptans, Beta-blockers/Anticonvulsants', 'Antacids, Sucralfate',\n",
       "       'Biologicals, Corticosteroids', 'Antacids, Sucralfate',\n",
       "       'PPIs, H. pylori treatment', 'Oral rehydration salts, Probiotics',\n",
       "       'Biologicals, Corticosteroids', 'PPIs, H. pylori treatment',\n",
       "       'Triptans, Beta-blockers/Anticonvulsants',\n",
       "       'Triptans, Beta-blockers/Anticonvulsants',\n",
       "       'Biologicals, Corticosteroids', 'Biologicals, Corticosteroids',\n",
       "       'Triptans, Beta-blockers/Anticonvulsants',\n",
       "       'Loperamide, Azithromycin', 'PPIs, H. pylori treatment',\n",
       "       'Biologicals, Steroids', 'Loperamide, Fluoroquinolone',\n",
       "       'Loperamide, Fluoroquinolone', 'NSAIDs, Topical treatments',\n",
       "       'NSAIDs, Caffeine combinations', 'Biologicals, Corticosteroids',\n",
       "       'NSAIDs, Caffeine combinations',\n",
       "       'Oral rehydration salts, Probiotics', 'NSAIDs, Topical treatments',\n",
       "       'Triptans, Beta-blockers/Anticonvulsants',\n",
       "       'Triptans, Beta-blockers/Anticonvulsants',\n",
       "       'PPIs, H. pylori treatment',\n",
       "       'Bismuth subsalicylate, Dietary adjustments',\n",
       "       'Loperamide, Fluoroquinolone', 'Loperamide, Fluoroquinolone',\n",
       "       'NSAIDs, Topical treatments',\n",
       "       'Triptans, Beta-blockers/Anticonvulsants',\n",
       "       'Biologicals, Corticosteroids',\n",
       "       'Triptans, Beta-blockers/Anticonvulsants',\n",
       "       'Biologicals, Corticosteroids', 'NSAIDs, Topical treatments',\n",
       "       'Loperamide, Fluoroquinolone',\n",
       "       'Bismuth subsalicylate, Dietary adjustments',\n",
       "       'PPIs, H. pylori treatment', 'Antacids, Sucralfate',\n",
       "       'Loperamide, Fluoroquinolone', 'Loperamide, Fluoroquinolone',\n",
       "       'Antacids, Sucralfate', 'Biologicals, Corticosteroids',\n",
       "       'NSAIDs, Topical treatments',\n",
       "       'Bismuth subsalicylate, Dietary adjustments',\n",
       "       'Biologicals, Corticosteroids', 'PPIs, H. pylori treatment',\n",
       "       'Biologicals, Corticosteroids', 'Biologicals, Corticosteroids',\n",
       "       'Bismuth subsalicylate, Dietary adjustments',\n",
       "       'PPIs, H. pylori treatment', 'Biologicals, Corticosteroids',\n",
       "       'NSAIDs, Caffeine combinations',\n",
       "       'Triptans, Beta-blockers/Anticonvulsants',\n",
       "       'Bismuth subsalicylate, Dietary adjustments',\n",
       "       'Biologicals, Corticosteroids',\n",
       "       'Bismuth subsalicylate, Dietary adjustments',\n",
       "       'PPIs, H. pylori treatment', 'Antacids, Sucralfate',\n",
       "       'Biologicals, Corticosteroids', 'NSAIDs, Caffeine combinations',\n",
       "       'PPIs, H. pylori treatment',\n",
       "       'Bismuth subsalicylate, Dietary adjustments',\n",
       "       'Loperamide, Fluoroquinolone', 'Loperamide, Azithromycin',\n",
       "       'PPIs, H. pylori treatment',\n",
       "       'Triptans, Beta-blockers/Anticonvulsants',\n",
       "       'Bismuth subsalicylate, Dietary adjustments',\n",
       "       'Bismuth subsalicylate, Dietary adjustments',\n",
       "       'PPIs, H. pylori treatment', 'PPIs, H. pylori treatment',\n",
       "       'PPIs, H. pylori treatment', 'PPIs, H. pylori treatment',\n",
       "       'Triptans, Beta-blockers/Anticonvulsants', 'Biologicals, Steroids',\n",
       "       'Triptans, Beta-blockers/Anticonvulsants',\n",
       "       'Bismuth subsalicylate, Dietary adjustments',\n",
       "       'Loperamide, Fluoroquinolone',\n",
       "       'Triptans, Beta-blockers/Anticonvulsants',\n",
       "       'Biologicals, Corticosteroids', 'Biologicals, Steroids',\n",
       "       'PPIs, H. pylori treatment', 'Biologicals, Corticosteroids',\n",
       "       'PPIs, H. pylori treatment', 'Biologicals, Corticosteroids',\n",
       "       'Biologicals, Corticosteroids', 'PPIs, H. pylori treatment',\n",
       "       'Triptans, Beta-blockers/Anticonvulsants',\n",
       "       'Antacids, Dietary changes', 'NSAIDs, Caffeine combinations',\n",
       "       'Loperamide, Fluoroquinolone',\n",
       "       'Triptans, Beta-blockers/Anticonvulsants',\n",
       "       'Loperamide, Fluoroquinolone',\n",
       "       'Triptans, Beta-blockers/Anticonvulsants',\n",
       "       'NSAIDs, Caffeine combinations',\n",
       "       'Pediatric Triptans, Preventive meds',\n",
       "       'Bismuth subsalicylate, Dietary adjustments',\n",
       "       'Triptans, Beta-blockers/Anticonvulsants',\n",
       "       'Pediatric Triptans, Preventive meds',\n",
       "       'Triptans, Beta-blockers/Anticonvulsants',\n",
       "       'Bismuth subsalicylate, Dietary adjustments',\n",
       "       'Loperamide, Azithromycin', 'PPIs, H. pylori treatment',\n",
       "       'Bismuth subsalicylate, Dietary adjustments',\n",
       "       'PPIs, H. pylori treatment',\n",
       "       'Bismuth subsalicylate, Dietary adjustments',\n",
       "       'Loperamide, Fluoroquinolone',\n",
       "       'Oral rehydration salts, Probiotics',\n",
       "       'Loperamide, Fluoroquinolone',\n",
       "       'Triptans, Beta-blockers/Anticonvulsants',\n",
       "       'PPIs, H. pylori treatment', 'Antacids, Sucralfate',\n",
       "       'Naproxen, Physical therapy', 'PPIs, H. pylori treatment',\n",
       "       'Biologicals, Corticosteroids', 'Biologicals, Corticosteroids',\n",
       "       'PPIs, H. pylori treatment',\n",
       "       'Triptans, Beta-blockers/Anticonvulsants', 'Biologicals, Steroids',\n",
       "       'Triptans, Beta-blockers/Anticonvulsants',\n",
       "       'Triptans, Beta-blockers/Anticonvulsants',\n",
       "       'Loperamide, Fluoroquinolone', 'Biologicals, Corticosteroids',\n",
       "       'Bismuth subsalicylate, Dietary adjustments',\n",
       "       'Biologicals, Corticosteroids', 'PPIs, H. pylori treatment',\n",
       "       'PPIs, H. pylori treatment', 'NSAIDs, Caffeine combinations',\n",
       "       'PPIs, H. pylori treatment', 'Oral rehydration salts, Probiotics',\n",
       "       'NSAIDs, Caffeine combinations',\n",
       "       'Bismuth subsalicylate, Dietary adjustments',\n",
       "       'Biologicals, Corticosteroids', 'PPIs, H. pylori treatment',\n",
       "       'NSAIDs, Topical treatments',\n",
       "       'Triptans, Beta-blockers/Anticonvulsants',\n",
       "       'Triptans, Beta-blockers/Anticonvulsants',\n",
       "       'Loperamide, Fluoroquinolone', 'H2 blockers, Probiotics',\n",
       "       'NSAIDs, Topical treatments', 'Oral rehydration salts, Probiotics',\n",
       "       'PPIs, H. pylori treatment', 'PPIs, H. pylori treatment',\n",
       "       'Triptans, Beta-blockers/Anticonvulsants',\n",
       "       'Loperamide, Fluoroquinolone', 'Loperamide, Fluoroquinolone',\n",
       "       'Loperamide, Azithromycin', 'NSAIDs, Topical treatments',\n",
       "       'NSAIDs, Topical treatments', 'Loperamide, Fluoroquinolone',\n",
       "       'Triptans, Beta-blockers/Anticonvulsants',\n",
       "       'NSAIDs, Topical treatments', 'Antacids, Sucralfate',\n",
       "       'Loperamide, Fluoroquinolone',\n",
       "       'Bismuth subsalicylate, Dietary adjustments',\n",
       "       'Bismuth subsalicylate, Dietary adjustments',\n",
       "       'Pediatric Triptans, Preventive meds',\n",
       "       'Bismuth subsalicylate, Dietary adjustments',\n",
       "       'Triptans, Beta-blockers/Anticonvulsants',\n",
       "       'Triptans, Beta-blockers/Anticonvulsants',\n",
       "       'NSAIDs, Topical treatments', 'Biologicals, Corticosteroids',\n",
       "       'Biologicals, Corticosteroids', 'Loperamide, Fluoroquinolone',\n",
       "       'Bismuth subsalicylate, Dietary adjustments',\n",
       "       'Biologicals, Corticosteroids', 'PPIs, H. pylori treatment',\n",
       "       'PPIs, H. pylori treatment', 'Antacids, Sucralfate',\n",
       "       'PPIs, H. pylori treatment',\n",
       "       'Triptans, Beta-blockers/Anticonvulsants',\n",
       "       'Biologicals, Corticosteroids', 'NSAIDs, Caffeine combinations',\n",
       "       'Triptans, Beta-blockers/Anticonvulsants',\n",
       "       'H2 blockers, Probiotics', 'Biologicals, Steroids',\n",
       "       'Biologicals, Corticosteroids', 'NSAIDs, Topical treatments',\n",
       "       'Biologicals, Corticosteroids', 'Loperamide, Fluoroquinolone',\n",
       "       'PPIs, H. pylori treatment', 'Loperamide, Azithromycin',\n",
       "       'Antacids, Sucralfate', 'Acetaminophen, Lifestyle changes',\n",
       "       'Bismuth subsalicylate, Dietary adjustments',\n",
       "       'Triptans, Beta-blockers/Anticonvulsants',\n",
       "       'Biologicals, Corticosteroids', 'Loperamide, Fluoroquinolone',\n",
       "       'PPIs, H. pylori treatment', 'Antacids, Sucralfate',\n",
       "       'Triptans, Beta-blockers/Anticonvulsants',\n",
       "       'Triptans, Beta-blockers/Anticonvulsants',\n",
       "       'Biologicals, Corticosteroids', 'Biologicals, Corticosteroids',\n",
       "       'Triptans, Beta-blockers/Anticonvulsants',\n",
       "       'PPIs, H. pylori treatment', 'Loperamide, Fluoroquinolone',\n",
       "       'Triptans, Beta-blockers/Anticonvulsants',\n",
       "       'NSAIDs, Topical treatments',\n",
       "       'Triptans, Beta-blockers/Anticonvulsants',\n",
       "       'Triptans, Beta-blockers/Anticonvulsants',\n",
       "       'Loperamide, Fluoroquinolone', 'PPIs, H. pylori treatment',\n",
       "       'Triptans, Beta-blockers/Anticonvulsants',\n",
       "       'PPIs, H. pylori treatment',\n",
       "       'Triptans, Beta-blockers/Anticonvulsants',\n",
       "       'Triptans, Beta-blockers/Anticonvulsants',\n",
       "       'PPIs, H. pylori treatment', 'Biologicals, Corticosteroids',\n",
       "       'NSAIDs, Caffeine combinations', 'Biologicals, Corticosteroids',\n",
       "       'Loperamide, Fluoroquinolone', 'Loperamide, Fluoroquinolone',\n",
       "       'Bismuth subsalicylate, Dietary adjustments',\n",
       "       'Biologicals, Corticosteroids',\n",
       "       'Triptans, Beta-blockers/Anticonvulsants',\n",
       "       'NSAIDs, Caffeine combinations', 'NSAIDs, Topical treatments',\n",
       "       'Loperamide, Azithromycin', 'Loperamide, Azithromycin',\n",
       "       'Biologicals, Corticosteroids',\n",
       "       'Bismuth subsalicylate, Dietary adjustments',\n",
       "       'PPIs, H. pylori treatment', 'Antacids, Sucralfate',\n",
       "       'Biologicals, Corticosteroids', 'Loperamide, Fluoroquinolone',\n",
       "       'PPIs, H. pylori treatment',\n",
       "       'Triptans, Beta-blockers/Anticonvulsants',\n",
       "       'Loperamide, Fluoroquinolone', 'NSAIDs, Topical treatments',\n",
       "       'Biologicals, Corticosteroids', 'Loperamide, Fluoroquinolone',\n",
       "       'NSAIDs, Caffeine combinations', 'Antacids, Sucralfate',\n",
       "       'Biologicals, Corticosteroids', 'NSAIDs, Topical treatments',\n",
       "       'PPIs, H. pylori treatment', 'Loperamide, Fluoroquinolone',\n",
       "       'Triptans, Beta-blockers/Anticonvulsants',\n",
       "       'Triptans, Beta-blockers/Anticonvulsants',\n",
       "       'Biologicals, Corticosteroids', 'Biologicals, Corticosteroids',\n",
       "       'NSAIDs, Caffeine combinations', 'Loperamide, Fluoroquinolone',\n",
       "       'Triptans, Beta-blockers/Anticonvulsants',\n",
       "       'Biologicals, Corticosteroids', 'Loperamide, Fluoroquinolone',\n",
       "       'NSAIDs, Topical treatments', 'Loperamide, Fluoroquinolone',\n",
       "       'Loperamide, Fluoroquinolone', 'Biologicals, Corticosteroids',\n",
       "       'Loperamide, Fluoroquinolone',\n",
       "       'Oral rehydration salts, Probiotics',\n",
       "       'Triptans, Beta-blockers/Anticonvulsants',\n",
       "       'Triptans, Beta-blockers/Anticonvulsants',\n",
       "       'Loperamide, Fluoroquinolone', 'NSAIDs, Topical treatments',\n",
       "       'Biologicals, Corticosteroids', 'Antacids, Sucralfate',\n",
       "       'Biologicals, Corticosteroids', 'Biologicals, Corticosteroids',\n",
       "       'Biologicals, Corticosteroids',\n",
       "       'Bismuth subsalicylate, Dietary adjustments',\n",
       "       'Antacids, Sucralfate', 'Pediatric Triptans, Preventive meds',\n",
       "       'Loperamide, Fluoroquinolone',\n",
       "       'Bismuth subsalicylate, Dietary adjustments',\n",
       "       'NSAIDs, Caffeine combinations',\n",
       "       'Triptans, Beta-blockers/Anticonvulsants',\n",
       "       'Triptans, Beta-blockers/Anticonvulsants',\n",
       "       'NSAIDs, Topical treatments', 'Biologicals, Corticosteroids',\n",
       "       'Triptans, Beta-blockers/Anticonvulsants',\n",
       "       'PPIs, H. pylori treatment', 'Biologicals, Corticosteroids',\n",
       "       'PPIs, H. pylori treatment', 'Loperamide, Fluoroquinolone',\n",
       "       'PPIs, H. pylori treatment', 'Antacids, Sucralfate',\n",
       "       'Bismuth subsalicylate, Dietary adjustments',\n",
       "       'Loperamide, Fluoroquinolone', 'NSAIDs, Caffeine combinations',\n",
       "       'Bismuth subsalicylate, Dietary adjustments',\n",
       "       'NSAIDs, Topical treatments',\n",
       "       'Bismuth subsalicylate, Dietary adjustments',\n",
       "       'Antacids, Sucralfate',\n",
       "       'Bismuth subsalicylate, Dietary adjustments',\n",
       "       'Triptans, Beta-blockers/Anticonvulsants',\n",
       "       'Triptans, Beta-blockers/Anticonvulsants',\n",
       "       'Loperamide, Fluoroquinolone',\n",
       "       'Bismuth subsalicylate, Dietary adjustments',\n",
       "       'PPIs, H. pylori treatment', 'Biologicals, Corticosteroids',\n",
       "       'PPIs, H. pylori treatment',\n",
       "       'Bismuth subsalicylate, Dietary adjustments',\n",
       "       'Biologicals, Corticosteroids'], dtype=object)"
      ]
     },
     "execution_count": 43,
     "metadata": {},
     "output_type": "execute_result"
    }
   ],
   "source": [
    "model = pickle.load(open(\"drugTree.pkl\",\"rb\"))\n",
    "model.predict(X_testset)"
   ]
  },
  {
   "cell_type": "code",
   "execution_count": 44,
   "metadata": {},
   "outputs": [
    {
     "name": "stdout",
     "output_type": "stream",
     "text": [
      "['Loperamide, Fluoroquinolone']\n"
     ]
    }
   ],
   "source": [
    "print(model.predict([[1, 19, 1, 0]]))"
   ]
  },
  {
   "cell_type": "code",
   "execution_count": null,
   "metadata": {},
   "outputs": [],
   "source": []
  }
 ],
 "metadata": {
  "anaconda-cloud": {},
  "colab": {
   "provenance": []
  },
  "kernelspec": {
   "display_name": "Python 3 (ipykernel)",
   "language": "python",
   "name": "python3"
  },
  "language_info": {
   "codemirror_mode": {
    "name": "ipython",
    "version": 3
   },
   "file_extension": ".py",
   "mimetype": "text/x-python",
   "name": "python",
   "nbconvert_exporter": "python",
   "pygments_lexer": "ipython3",
   "version": "3.10.9"
  }
 },
 "nbformat": 4,
 "nbformat_minor": 1
}
