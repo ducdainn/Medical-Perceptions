{
 "cells": [
  {
   "cell_type": "code",
   "execution_count": 3,
   "id": "913cf973",
   "metadata": {},
   "outputs": [
    {
     "name": "stdout",
     "output_type": "stream",
     "text": [
      "Collecting gradio\n",
      "  Downloading gradio-4.25.0-py3-none-any.whl (17.1 MB)\n",
      "\u001b[K     |████████████████████████████████| 17.1 MB 691 kB/s eta 0:00:01\n",
      "\u001b[?25hCollecting fastapi\n",
      "  Downloading fastapi-0.110.1-py3-none-any.whl (91 kB)\n",
      "\u001b[K     |████████████████████████████████| 91 kB 1.4 MB/s eta 0:00:01\n",
      "\u001b[?25hCollecting pydantic>=2.0\n",
      "  Downloading pydantic-2.6.4-py3-none-any.whl (394 kB)\n",
      "\u001b[K     |████████████████████████████████| 394 kB 1.4 MB/s eta 0:00:01\n",
      "\u001b[?25hCollecting gradio-client==0.15.0\n",
      "  Downloading gradio_client-0.15.0-py3-none-any.whl (313 kB)\n",
      "\u001b[K     |████████████████████████████████| 313 kB 72 kB/s eta 0:00:011\n",
      "\u001b[?25hCollecting orjson~=3.0\n",
      "  Downloading orjson-3.10.0-cp39-cp39-macosx_10_15_x86_64.macosx_11_0_arm64.macosx_10_15_universal2.whl (251 kB)\n",
      "\u001b[K     |████████████████████████████████| 251 kB 261 kB/s eta 0:00:01\n",
      "\u001b[?25hRequirement already satisfied: numpy~=1.0 in /Users/rearcow/Downloads/File down/Năm 3/Năm 4. /CNM/CNM_AYUCARE-main/.venv/lib/python3.9/site-packages (from gradio) (1.26.4)\n",
      "Collecting pydub\n",
      "  Downloading pydub-0.25.1-py2.py3-none-any.whl (32 kB)\n",
      "Collecting python-multipart>=0.0.9\n",
      "  Downloading python_multipart-0.0.9-py3-none-any.whl (22 kB)\n",
      "Collecting uvicorn>=0.14.0\n",
      "  Downloading uvicorn-0.29.0-py3-none-any.whl (60 kB)\n",
      "\u001b[K     |████████████████████████████████| 60 kB 619 kB/s eta 0:00:01\n",
      "\u001b[?25hCollecting typer[all]<1.0,>=0.9\n",
      "  Downloading typer-0.12.1-py3-none-any.whl (46 kB)\n",
      "\u001b[K     |████████████████████████████████| 46 kB 1.2 MB/s eta 0:00:01\n",
      "\u001b[?25hCollecting semantic-version~=2.0\n",
      "  Downloading semantic_version-2.10.0-py2.py3-none-any.whl (15 kB)\n",
      "Requirement already satisfied: pillow<11.0,>=8.0 in /Users/rearcow/Downloads/File down/Năm 3/Năm 4. /CNM/CNM_AYUCARE-main/.venv/lib/python3.9/site-packages (from gradio) (10.3.0)\n",
      "Requirement already satisfied: pandas<3.0,>=1.0 in /Users/rearcow/Downloads/File down/Năm 3/Năm 4. /CNM/CNM_AYUCARE-main/.venv/lib/python3.9/site-packages (from gradio) (2.2.1)\n",
      "Collecting huggingface-hub>=0.19.3\n",
      "  Downloading huggingface_hub-0.22.2-py3-none-any.whl (388 kB)\n",
      "\u001b[K     |████████████████████████████████| 388 kB 513 kB/s eta 0:00:01\n",
      "\u001b[?25hCollecting jinja2<4.0\n",
      "  Downloading Jinja2-3.1.3-py3-none-any.whl (133 kB)\n",
      "\u001b[K     |████████████████████████████████| 133 kB 604 kB/s eta 0:00:01\n",
      "\u001b[?25hCollecting tomlkit==0.12.0\n",
      "  Downloading tomlkit-0.12.0-py3-none-any.whl (37 kB)\n",
      "Collecting altair<6.0,>=4.2.0\n",
      "  Downloading altair-5.3.0-py3-none-any.whl (857 kB)\n",
      "\u001b[K     |████████████████████████████████| 857 kB 1.5 MB/s eta 0:00:01\n",
      "\u001b[?25hRequirement already satisfied: importlib-resources<7.0,>=1.3 in /Users/rearcow/Downloads/File down/Năm 3/Năm 4. /CNM/CNM_AYUCARE-main/.venv/lib/python3.9/site-packages (from gradio) (6.4.0)\n",
      "Collecting pyyaml<7.0,>=5.0\n",
      "  Downloading PyYAML-6.0.1-cp39-cp39-macosx_11_0_arm64.whl (174 kB)\n",
      "\u001b[K     |████████████████████████████████| 174 kB 1.2 MB/s eta 0:00:01\n",
      "\u001b[?25hCollecting ffmpy\n",
      "  Using cached ffmpy-0.3.2-py3-none-any.whl\n",
      "Requirement already satisfied: typing-extensions~=4.0 in /Users/rearcow/Downloads/File down/Năm 3/Năm 4. /CNM/CNM_AYUCARE-main/.venv/lib/python3.9/site-packages (from gradio) (4.11.0)\n",
      "Collecting ruff>=0.2.2\n",
      "  Downloading ruff-0.3.5-py3-none-macosx_10_12_x86_64.macosx_11_0_arm64.macosx_10_12_universal2.whl (16.5 MB)\n",
      "\u001b[K     |████████████████████████████████| 16.5 MB 1.1 MB/s eta 0:00:01\n",
      "\u001b[?25hRequirement already satisfied: matplotlib~=3.0 in /Users/rearcow/Downloads/File down/Năm 3/Năm 4. /CNM/CNM_AYUCARE-main/.venv/lib/python3.9/site-packages (from gradio) (3.8.4)\n",
      "Requirement already satisfied: packaging in /Users/rearcow/Downloads/File down/Năm 3/Năm 4. /CNM/CNM_AYUCARE-main/.venv/lib/python3.9/site-packages (from gradio) (24.0)\n",
      "Collecting aiofiles<24.0,>=22.0\n",
      "  Downloading aiofiles-23.2.1-py3-none-any.whl (15 kB)\n",
      "Collecting markupsafe~=2.0\n",
      "  Downloading MarkupSafe-2.1.5-cp39-cp39-macosx_10_9_universal2.whl (18 kB)\n",
      "Collecting httpx>=0.24.1\n",
      "  Downloading httpx-0.27.0-py3-none-any.whl (75 kB)\n",
      "\u001b[K     |████████████████████████████████| 75 kB 1.9 MB/s eta 0:00:01\n",
      "\u001b[?25hCollecting fsspec\n",
      "  Downloading fsspec-2024.3.1-py3-none-any.whl (171 kB)\n",
      "\u001b[K     |████████████████████████████████| 171 kB 1.7 MB/s eta 0:00:01\n",
      "\u001b[?25hCollecting websockets<12.0,>=10.0\n",
      "  Downloading websockets-11.0.3-cp39-cp39-macosx_11_0_arm64.whl (121 kB)\n",
      "\u001b[K     |████████████████████████████████| 121 kB 1.8 MB/s eta 0:00:01\n",
      "\u001b[?25hCollecting jsonschema>=3.0\n",
      "  Downloading jsonschema-4.21.1-py3-none-any.whl (85 kB)\n",
      "\u001b[K     |████████████████████████████████| 85 kB 1.8 MB/s eta 0:00:01\n",
      "\u001b[?25hCollecting toolz\n",
      "  Downloading toolz-0.12.1-py3-none-any.whl (56 kB)\n",
      "\u001b[K     |████████████████████████████████| 56 kB 2.1 MB/s eta 0:00:01\n",
      "\u001b[?25hCollecting idna\n",
      "  Using cached idna-3.6-py3-none-any.whl (61 kB)\n",
      "Collecting httpcore==1.*\n",
      "  Downloading httpcore-1.0.5-py3-none-any.whl (77 kB)\n",
      "\u001b[K     |████████████████████████████████| 77 kB 2.2 MB/s eta 0:00:01\n",
      "\u001b[?25hCollecting certifi\n",
      "  Using cached certifi-2024.2.2-py3-none-any.whl (163 kB)\n",
      "Collecting anyio\n",
      "  Downloading anyio-4.3.0-py3-none-any.whl (85 kB)\n",
      "\u001b[K     |████████████████████████████████| 85 kB 2.1 MB/s eta 0:00:01\n",
      "\u001b[?25hCollecting sniffio\n",
      "  Downloading sniffio-1.3.1-py3-none-any.whl (10 kB)\n",
      "Collecting h11<0.15,>=0.13\n",
      "  Downloading h11-0.14.0-py3-none-any.whl (58 kB)\n",
      "\u001b[K     |████████████████████████████████| 58 kB 2.6 MB/s eta 0:00:01\n",
      "\u001b[?25hCollecting requests\n",
      "  Using cached requests-2.31.0-py3-none-any.whl (62 kB)\n",
      "Collecting filelock\n",
      "  Downloading filelock-3.13.3-py3-none-any.whl (11 kB)\n",
      "Collecting tqdm>=4.42.1\n",
      "  Downloading tqdm-4.66.2-py3-none-any.whl (78 kB)\n",
      "\u001b[K     |████████████████████████████████| 78 kB 2.0 MB/s eta 0:00:01\n",
      "\u001b[?25hRequirement already satisfied: zipp>=3.1.0 in /Users/rearcow/Downloads/File down/Năm 3/Năm 4. /CNM/CNM_AYUCARE-main/.venv/lib/python3.9/site-packages (from importlib-resources<7.0,>=1.3->gradio) (3.18.1)\n",
      "Collecting jsonschema-specifications>=2023.03.6\n",
      "  Downloading jsonschema_specifications-2023.12.1-py3-none-any.whl (18 kB)\n",
      "Collecting referencing>=0.28.4\n",
      "  Downloading referencing-0.34.0-py3-none-any.whl (26 kB)\n",
      "Collecting rpds-py>=0.7.1\n",
      "  Downloading rpds_py-0.18.0-cp39-cp39-macosx_11_0_arm64.whl (330 kB)\n",
      "\u001b[K     |████████████████████████████████| 330 kB 478 kB/s eta 0:00:01\n",
      "\u001b[?25hCollecting attrs>=22.2.0\n",
      "  Downloading attrs-23.2.0-py3-none-any.whl (60 kB)\n",
      "\u001b[K     |████████████████████████████████| 60 kB 216 kB/s eta 0:00:01\n",
      "\u001b[?25hRequirement already satisfied: pyparsing>=2.3.1 in /Users/rearcow/Downloads/File down/Năm 3/Năm 4. /CNM/CNM_AYUCARE-main/.venv/lib/python3.9/site-packages (from matplotlib~=3.0->gradio) (3.1.2)\n",
      "Requirement already satisfied: python-dateutil>=2.7 in /Users/rearcow/Downloads/File down/Năm 3/Năm 4. /CNM/CNM_AYUCARE-main/.venv/lib/python3.9/site-packages (from matplotlib~=3.0->gradio) (2.9.0.post0)\n",
      "Requirement already satisfied: kiwisolver>=1.3.1 in /Users/rearcow/Downloads/File down/Năm 3/Năm 4. /CNM/CNM_AYUCARE-main/.venv/lib/python3.9/site-packages (from matplotlib~=3.0->gradio) (1.4.5)\n",
      "Requirement already satisfied: fonttools>=4.22.0 in /Users/rearcow/Downloads/File down/Năm 3/Năm 4. /CNM/CNM_AYUCARE-main/.venv/lib/python3.9/site-packages (from matplotlib~=3.0->gradio) (4.51.0)\n",
      "Requirement already satisfied: cycler>=0.10 in /Users/rearcow/Downloads/File down/Năm 3/Năm 4. /CNM/CNM_AYUCARE-main/.venv/lib/python3.9/site-packages (from matplotlib~=3.0->gradio) (0.12.1)\n",
      "Requirement already satisfied: contourpy>=1.0.1 in /Users/rearcow/Downloads/File down/Năm 3/Năm 4. /CNM/CNM_AYUCARE-main/.venv/lib/python3.9/site-packages (from matplotlib~=3.0->gradio) (1.2.1)\n",
      "Requirement already satisfied: tzdata>=2022.7 in /Users/rearcow/Downloads/File down/Năm 3/Năm 4. /CNM/CNM_AYUCARE-main/.venv/lib/python3.9/site-packages (from pandas<3.0,>=1.0->gradio) (2024.1)\n",
      "Requirement already satisfied: pytz>=2020.1 in /Users/rearcow/Downloads/File down/Năm 3/Năm 4. /CNM/CNM_AYUCARE-main/.venv/lib/python3.9/site-packages (from pandas<3.0,>=1.0->gradio) (2024.1)\n",
      "Collecting annotated-types>=0.4.0\n",
      "  Downloading annotated_types-0.6.0-py3-none-any.whl (12 kB)\n",
      "Collecting pydantic-core==2.16.3\n",
      "  Downloading pydantic_core-2.16.3-cp39-cp39-macosx_11_0_arm64.whl (1.8 MB)\n",
      "\u001b[K     |████████████████████████████████| 1.8 MB 633 kB/s eta 0:00:01\n",
      "\u001b[?25hRequirement already satisfied: six>=1.5 in /Users/rearcow/Downloads/File down/Năm 3/Năm 4. /CNM/CNM_AYUCARE-main/.venv/lib/python3.9/site-packages (from python-dateutil>=2.7->matplotlib~=3.0->gradio) (1.16.0)\n",
      "\u001b[33mWARNING: typer 0.12.1 does not provide the extra 'all'\u001b[0m\n",
      "Collecting shellingham>=1.3.0\n",
      "  Downloading shellingham-1.5.4-py2.py3-none-any.whl (9.8 kB)\n",
      "Collecting click>=8.0.0\n",
      "  Downloading click-8.1.7-py3-none-any.whl (97 kB)\n",
      "\u001b[K     |████████████████████████████████| 97 kB 2.1 MB/s eta 0:00:01\n",
      "\u001b[?25hCollecting rich>=10.11.0\n",
      "  Using cached rich-13.7.1-py3-none-any.whl (240 kB)\n",
      "Collecting markdown-it-py>=2.2.0\n",
      "  Using cached markdown_it_py-3.0.0-py3-none-any.whl (87 kB)\n",
      "Requirement already satisfied: pygments<3.0.0,>=2.13.0 in /Users/rearcow/Downloads/File down/Năm 3/Năm 4. /CNM/CNM_AYUCARE-main/.venv/lib/python3.9/site-packages (from rich>=10.11.0->typer[all]<1.0,>=0.9->gradio) (2.17.2)\n",
      "Collecting mdurl~=0.1\n",
      "  Using cached mdurl-0.1.2-py3-none-any.whl (10.0 kB)\n",
      "Requirement already satisfied: exceptiongroup>=1.0.2 in /Users/rearcow/Downloads/File down/Năm 3/Năm 4. /CNM/CNM_AYUCARE-main/.venv/lib/python3.9/site-packages (from anyio->httpx>=0.24.1->gradio) (1.2.0)\n",
      "Collecting starlette<0.38.0,>=0.37.2\n",
      "  Downloading starlette-0.37.2-py3-none-any.whl (71 kB)\n",
      "\u001b[K     |████████████████████████████████| 71 kB 752 kB/s eta 0:00:01\n",
      "\u001b[?25hCollecting charset-normalizer<4,>=2\n",
      "  Downloading charset_normalizer-3.3.2-cp39-cp39-macosx_11_0_arm64.whl (120 kB)\n",
      "\u001b[K     |████████████████████████████████| 120 kB 2.2 MB/s eta 0:00:01\n",
      "\u001b[?25hCollecting urllib3<3,>=1.21.1\n",
      "  Using cached urllib3-2.2.1-py3-none-any.whl (121 kB)\n",
      "Installing collected packages: rpds-py, mdurl, attrs, urllib3, sniffio, referencing, markdown-it-py, idna, h11, charset-normalizer, certifi, tqdm, shellingham, rich, requests, pyyaml, pydantic-core, markupsafe, jsonschema-specifications, httpcore, fsspec, filelock, click, anyio, annotated-types, websockets, typer, toolz, starlette, pydantic, jsonschema, jinja2, huggingface-hub, httpx, uvicorn, tomlkit, semantic-version, ruff, python-multipart, pydub, orjson, gradio-client, ffmpy, fastapi, altair, aiofiles, gradio\n",
      "Successfully installed aiofiles-23.2.1 altair-5.3.0 annotated-types-0.6.0 anyio-4.3.0 attrs-23.2.0 certifi-2024.2.2 charset-normalizer-3.3.2 click-8.1.7 fastapi-0.110.1 ffmpy-0.3.2 filelock-3.13.3 fsspec-2024.3.1 gradio-4.25.0 gradio-client-0.15.0 h11-0.14.0 httpcore-1.0.5 httpx-0.27.0 huggingface-hub-0.22.2 idna-3.6 jinja2-3.1.3 jsonschema-4.21.1 jsonschema-specifications-2023.12.1 markdown-it-py-3.0.0 markupsafe-2.1.5 mdurl-0.1.2 orjson-3.10.0 pydantic-2.6.4 pydantic-core-2.16.3 pydub-0.25.1 python-multipart-0.0.9 pyyaml-6.0.1 referencing-0.34.0 requests-2.31.0 rich-13.7.1 rpds-py-0.18.0 ruff-0.3.5 semantic-version-2.10.0 shellingham-1.5.4 sniffio-1.3.1 starlette-0.37.2 tomlkit-0.12.0 toolz-0.12.1 tqdm-4.66.2 typer-0.12.1 urllib3-2.2.1 uvicorn-0.29.0 websockets-11.0.3\n",
      "\u001b[33mWARNING: You are using pip version 21.2.4; however, version 24.0 is available.\n",
      "You should consider upgrading via the '/Users/rearcow/Downloads/File down/Năm 3/Năm 4. /CNM/CNM_AYUCARE-main/.venv/bin/python -m pip install --upgrade pip' command.\u001b[0m\n",
      "Note: you may need to restart the kernel to use updated packages.\n"
     ]
    }
   ],
   "source": [
    "pip install gradio\n"
   ]
  },
  {
   "cell_type": "code",
   "execution_count": 4,
   "id": "ee8a97cd-18d9-451f-8859-52385b36bf90",
   "metadata": {},
   "outputs": [
    {
     "name": "stderr",
     "output_type": "stream",
     "text": [
      "/Users/rearcow/Downloads/File down/Năm 3/Năm 4. /CNM/CNM_AYUCARE-main/.venv/lib/python3.9/site-packages/urllib3/__init__.py:35: NotOpenSSLWarning: urllib3 v2 only supports OpenSSL 1.1.1+, currently the 'ssl' module is compiled with 'LibreSSL 2.8.3'. See: https://github.com/urllib3/urllib3/issues/3020\n",
      "  warnings.warn(\n",
      "/Users/rearcow/Downloads/File down/Năm 3/Năm 4. /CNM/CNM_AYUCARE-main/.venv/lib/python3.9/site-packages/tqdm/auto.py:21: TqdmWarning: IProgress not found. Please update jupyter and ipywidgets. See https://ipywidgets.readthedocs.io/en/stable/user_install.html\n",
      "  from .autonotebook import tqdm as notebook_tqdm\n"
     ]
    }
   ],
   "source": [
    "# Import Dependencies\n",
    "import gradio as gr\n",
    "import pandas as pd\n",
    "import numpy as np\n",
    "from joblib import load"
   ]
  },
  {
   "cell_type": "code",
   "execution_count": 25,
   "id": "a34c486f-d26f-46f1-83d0-8cbb7ea8b3a3",
   "metadata": {},
   "outputs": [
    {
     "name": "stdout",
     "output_type": "stream",
     "text": [
      "Running on local URL:  http://127.0.0.1:7865\n",
      "Running on public URL: https://3305ff09e30165f821.gradio.live\n",
      "\n",
      "This share link expires in 72 hours. For free permanent hosting and GPU upgrades, run `gradio deploy` from Terminal to deploy to Spaces (https://huggingface.co/spaces)\n"
     ]
    },
    {
     "data": {
      "text/html": [
       "<div><iframe src=\"https://3305ff09e30165f821.gradio.live\" width=\"100%\" height=\"500\" allow=\"autoplay; camera; microphone; clipboard-read; clipboard-write;\" frameborder=\"0\" allowfullscreen></iframe></div>"
      ],
      "text/plain": [
       "<IPython.core.display.HTML object>"
      ]
     },
     "metadata": {},
     "output_type": "display_data"
    },
    {
     "data": {
      "text/plain": []
     },
     "execution_count": 25,
     "metadata": {},
     "output_type": "execute_result"
    },
    {
     "name": "stderr",
     "output_type": "stream",
     "text": [
      "/Users/rearcow/Downloads/File down/Năm 3/Năm 4. /CNM/CNM_AYUCARE-main/.venv/lib/python3.9/site-packages/sklearn/base.py:486: UserWarning: X has feature names, but DecisionTreeClassifier was fitted without feature names\n",
      "  warnings.warn(\n",
      "/Users/rearcow/Downloads/File down/Năm 3/Năm 4. /CNM/CNM_AYUCARE-main/.venv/lib/python3.9/site-packages/sklearn/base.py:486: UserWarning: X has feature names, but DecisionTreeClassifier was fitted without feature names\n",
      "  warnings.warn(\n",
      "/Users/rearcow/Downloads/File down/Năm 3/Năm 4. /CNM/CNM_AYUCARE-main/.venv/lib/python3.9/site-packages/sklearn/base.py:486: UserWarning: X has feature names, but DecisionTreeClassifier was fitted without feature names\n",
      "  warnings.warn(\n"
     ]
    }
   ],
   "source": [
    "import gradio as gr\n",
    "import pandas as pd\n",
    "import numpy as np\n",
    "from joblib import load\n",
    "\n",
    "# Define the symptoms dictionary in the global scope\n",
    "symptoms = {'acidity': 0, 'indigestion': 0, 'headache': 0, 'blurred_and_distorted_vision': 0,\n",
    "            'excessive_hunger': 0, 'muscle_weakness': 0, 'stiff_neck': 0, 'swelling_joints': 0,\n",
    "            'movement_stiffness': 0, 'depression': 0, 'irritability': 0, 'visual_disturbances': 0, \n",
    "            'painful_walking': 0, 'abdominal_pain': 0, 'nausea': 0, 'vomiting': 0, 'blood_in_mucus': 0, \n",
    "            'Fatigue': 0, 'Fever': 0, 'Dehydration': 0, 'loss_of_appetite': 0, 'cramping': 0,\n",
    "            'blood_in_stool': 0, 'gnawing': 0, 'upper_abdomen_pain': 0, 'fullness_feeling': 0,\n",
    "            'hiccups': 0, 'abdominal_bloating': 0, 'heartburn': 0, 'belching': 0, 'burning_ache': 0}\n",
    "\n",
    "# Corrected and complete disease prediction function\n",
    "def predict_disease_from_symptom(symptom_list):\n",
    "    # Make a copy of the symptoms dictionary to avoid modifying the global one\n",
    "    local_symptoms = symptoms.copy()\n",
    "\n",
    "    # Set value to 1 for corresponding symptoms selected by the user\n",
    "    for symptom in symptom_list:\n",
    "        if symptom in local_symptoms:\n",
    "            local_symptoms[symptom] = 1\n",
    "    \n",
    "    # Prepare the input data for prediction\n",
    "    df_test = pd.DataFrame([local_symptoms])\n",
    "    \n",
    "    # Load your pre-trained model\n",
    "    model_path = \"/Users/rearcow/Downloads/File down/Năm 3/Năm 4. /CNM/CNM_AYUCARE-main/Nadun/Disease_Prediction_Model/DecisionTree-Model.sav\"\n",
    "    clf = load(model_path)\n",
    "    \n",
    "    # Make a prediction\n",
    "    result = clf.predict(df_test)\n",
    "    \n",
    "    return result[0]\n",
    "\n",
    "# Setup Gradio interface\n",
    "iface = gr.Interface(\n",
    "    fn=predict_disease_from_symptom,\n",
    "    inputs=gr.CheckboxGroup(\n",
    "        choices=list(symptoms.keys()),  # Now it accesses the global 'symptoms' dictionary\n",
    "        label=\"Symptoms\"\n",
    "    ),\n",
    "    outputs=\"text\",\n",
    "    description=\"Select symptoms from the list and click submit to get the predicted disease as the output. [NOTE: This app is meant for demo purposes only. Please consult a doctor if you have any symptoms.]\"\n",
    ")\n",
    "\n",
    "# Launch the Gradio app\n",
    "iface.launch(share = True)\n"
   ]
  },
  {
   "cell_type": "code",
   "execution_count": 19,
   "id": "b3f6901f-093a-4047-a552-36a09ae5a8df",
   "metadata": {},
   "outputs": [
    {
     "name": "stdout",
     "output_type": "stream",
     "text": [
      "Running on local URL:  http://127.0.0.1:7864\n",
      "Running on public URL: https://23c04728061928183b.gradio.live\n",
      "\n",
      "This share link expires in 72 hours. For free permanent hosting and GPU upgrades, run `gradio deploy` from Terminal to deploy to Spaces (https://huggingface.co/spaces)\n"
     ]
    },
    {
     "data": {
      "text/html": [
       "<div><iframe src=\"https://23c04728061928183b.gradio.live\" width=\"100%\" height=\"500\" allow=\"autoplay; camera; microphone; clipboard-read; clipboard-write;\" frameborder=\"0\" allowfullscreen></iframe></div>"
      ],
      "text/plain": [
       "<IPython.core.display.HTML object>"
      ]
     },
     "metadata": {},
     "output_type": "display_data"
    },
    {
     "data": {
      "text/plain": []
     },
     "execution_count": 19,
     "metadata": {},
     "output_type": "execute_result"
    }
   ],
   "source": [
    "# import gradio as gr\n",
    "\n",
    "# # Assuming predict_disease_from_symptom is your function that predicts the disease based on the symptoms provided\n",
    "# def predict_disease_from_symptom(symptoms):\n",
    "#     # Your prediction logic here\n",
    "#     return \"Disease Name\"\n",
    "\n",
    "# iface = gr.Interface(\n",
    "#     fn=predict_disease_from_symptom,\n",
    "#     inputs=gr.CheckboxGroup(\n",
    "#         choices=['acidity', 'indigestion', 'headache', 'blurred_and_distorted_vision', \n",
    "#                  'excessive_hunger', 'muscle_weakness', 'stiff_neck', 'swelling_joints', \n",
    "#                  'movement_stiffness', 'depression', 'irritability', 'visual_disturbances', \n",
    "#                  'painful_walking', 'abdominal_pain', 'nausea', 'vomiting', 'blood_in_mucus', \n",
    "#                  'Fatigue', 'Fever', 'Dehydration', 'loss_of_appetite', 'cramping',\n",
    "#                  'blood_in_stool', 'gnawing', 'upper_abdomen_pain', 'fullness_feeling',\n",
    "#                  'hiccups', 'abdominal_bloating', 'heartburn', 'belching', 'burning_ache'],\n",
    "#         label=\"Symptoms\"\n",
    "#     ),\n",
    "#     outputs=\"text\",\n",
    "#     description=\"Select symptoms from the list and click submit to get the predicted disease as the output. \\\n",
    "#     [NOTE: This app is meant for demo purposes only. Please consult a doctor if you have any symptoms.]\"\n",
    "# )\n",
    "\n",
    "# iface.launch(share=True)\n",
    "\n",
    "\n",
    "# ######33\n",
    "\n"
   ]
  },
  {
   "cell_type": "code",
   "execution_count": 14,
   "id": "1c5f8b34",
   "metadata": {},
   "outputs": [
    {
     "ename": "AttributeError",
     "evalue": "module 'gradio' has no attribute 'inputs'",
     "output_type": "error",
     "traceback": [
      "\u001b[0;31m---------------------------------------------------------------------------\u001b[0m",
      "\u001b[0;31mAttributeError\u001b[0m                            Traceback (most recent call last)",
      "Cell \u001b[0;32mIn[14], line 6\u001b[0m\n\u001b[1;32m      1\u001b[0m \u001b[38;5;66;03m# Run Inference Server\u001b[39;00m\n\u001b[1;32m      2\u001b[0m \u001b[38;5;66;03m# Click on Public URL to run demo on separate page or for sharing purposes\u001b[39;00m\n\u001b[1;32m      3\u001b[0m iface \u001b[38;5;241m=\u001b[39m gr\u001b[38;5;241m.\u001b[39mInterface(\n\u001b[1;32m      4\u001b[0m     predict_disease_from_symptom,\n\u001b[1;32m      5\u001b[0m     [\n\u001b[0;32m----> 6\u001b[0m         \u001b[43mgr\u001b[49m\u001b[38;5;241;43m.\u001b[39;49m\u001b[43minputs\u001b[49m\u001b[38;5;241m.\u001b[39mCheckboxGroup([\u001b[38;5;124m'\u001b[39m\u001b[38;5;124macidity\u001b[39m\u001b[38;5;124m'\u001b[39m, \u001b[38;5;124m'\u001b[39m\u001b[38;5;124mindigestion\u001b[39m\u001b[38;5;124m'\u001b[39m, \u001b[38;5;124m'\u001b[39m\u001b[38;5;124mheadache\u001b[39m\u001b[38;5;124m'\u001b[39m, \u001b[38;5;124m'\u001b[39m\u001b[38;5;124mblurred_and_distorted_vision\u001b[39m\u001b[38;5;124m'\u001b[39m, \n\u001b[1;32m      7\u001b[0m                                  \u001b[38;5;124m'\u001b[39m\u001b[38;5;124mexcessive_hunger\u001b[39m\u001b[38;5;124m'\u001b[39m, \u001b[38;5;124m'\u001b[39m\u001b[38;5;124mmuscle_weakness\u001b[39m\u001b[38;5;124m'\u001b[39m, \u001b[38;5;124m'\u001b[39m\u001b[38;5;124mstiff_neck\u001b[39m\u001b[38;5;124m'\u001b[39m, \u001b[38;5;124m'\u001b[39m\u001b[38;5;124mswelling_joints\u001b[39m\u001b[38;5;124m'\u001b[39m, \n\u001b[1;32m      8\u001b[0m                                  \u001b[38;5;124m'\u001b[39m\u001b[38;5;124mmovement_stiffness\u001b[39m\u001b[38;5;124m'\u001b[39m, \u001b[38;5;124m'\u001b[39m\u001b[38;5;124mdepression\u001b[39m\u001b[38;5;124m'\u001b[39m,\u001b[38;5;124m'\u001b[39m\u001b[38;5;124mirritability\u001b[39m\u001b[38;5;124m'\u001b[39m, \u001b[38;5;124m'\u001b[39m\u001b[38;5;124mvisual_disturbances\u001b[39m\u001b[38;5;124m'\u001b[39m, \n\u001b[1;32m      9\u001b[0m                                  \u001b[38;5;124m'\u001b[39m\u001b[38;5;124mpainful_walking\u001b[39m\u001b[38;5;124m'\u001b[39m, \u001b[38;5;124m'\u001b[39m\u001b[38;5;124mabdominal_pain\u001b[39m\u001b[38;5;124m'\u001b[39m, \u001b[38;5;124m'\u001b[39m\u001b[38;5;124mnausea\u001b[39m\u001b[38;5;124m'\u001b[39m, \u001b[38;5;124m'\u001b[39m\u001b[38;5;124mvomiting\u001b[39m\u001b[38;5;124m'\u001b[39m, \u001b[38;5;124m'\u001b[39m\u001b[38;5;124mblood_in_mucus\u001b[39m\u001b[38;5;124m'\u001b[39m, \n\u001b[1;32m     10\u001b[0m                                  \u001b[38;5;124m'\u001b[39m\u001b[38;5;124mFatigue\u001b[39m\u001b[38;5;124m'\u001b[39m,\u001b[38;5;124m'\u001b[39m\u001b[38;5;124mFever\u001b[39m\u001b[38;5;124m'\u001b[39m, \u001b[38;5;124m'\u001b[39m\u001b[38;5;124mDehydration\u001b[39m\u001b[38;5;124m'\u001b[39m, \u001b[38;5;124m'\u001b[39m\u001b[38;5;124mloss_of_appetite\u001b[39m\u001b[38;5;124m'\u001b[39m, \u001b[38;5;124m'\u001b[39m\u001b[38;5;124mcramping\u001b[39m\u001b[38;5;124m'\u001b[39m,\n\u001b[1;32m     11\u001b[0m                                  \u001b[38;5;124m'\u001b[39m\u001b[38;5;124mblood_in_stool\u001b[39m\u001b[38;5;124m'\u001b[39m, \u001b[38;5;124m'\u001b[39m\u001b[38;5;124mgnawing\u001b[39m\u001b[38;5;124m'\u001b[39m, \u001b[38;5;124m'\u001b[39m\u001b[38;5;124mupper_abdomain_pain\u001b[39m\u001b[38;5;124m'\u001b[39m, \u001b[38;5;124m'\u001b[39m\u001b[38;5;124mfullness_feeling\u001b[39m\u001b[38;5;124m'\u001b[39m,\n\u001b[1;32m     12\u001b[0m                                  \u001b[38;5;124m'\u001b[39m\u001b[38;5;124mhiccups\u001b[39m\u001b[38;5;124m'\u001b[39m, \u001b[38;5;124m'\u001b[39m\u001b[38;5;124mabdominal_bloating\u001b[39m\u001b[38;5;124m'\u001b[39m, \u001b[38;5;124m'\u001b[39m\u001b[38;5;124mheartburn\u001b[39m\u001b[38;5;124m'\u001b[39m, \u001b[38;5;124m'\u001b[39m\u001b[38;5;124mbelching\u001b[39m\u001b[38;5;124m'\u001b[39m,\u001b[38;5;124m'\u001b[39m\u001b[38;5;124mburning_ache\u001b[39m\u001b[38;5;124m'\u001b[39m]),\n\u001b[1;32m     13\u001b[0m     ],\n\u001b[1;32m     14\u001b[0m     \u001b[38;5;124m\"\u001b[39m\u001b[38;5;124mtext\u001b[39m\u001b[38;5;124m\"\u001b[39m,\n\u001b[1;32m     15\u001b[0m     description\u001b[38;5;241m=\u001b[39m\u001b[38;5;124m\"\u001b[39m\u001b[38;5;124mSelect a symptom from the list and click submit to get predicted Disease as the Output. \u001b[39m\u001b[38;5;130;01m\\\u001b[39;00m\n\u001b[1;32m     16\u001b[0m \u001b[38;5;124m    [ NOTE: This app is meant for demo purposes only. Please consult a Doctor if you have any symptoms. ]\u001b[39m\u001b[38;5;124m\"\u001b[39m\n\u001b[1;32m     17\u001b[0m )\n\u001b[1;32m     19\u001b[0m iface\u001b[38;5;241m.\u001b[39mlaunch(share\u001b[38;5;241m=\u001b[39m\u001b[38;5;28;01mTrue\u001b[39;00m)\n",
      "\u001b[0;31mAttributeError\u001b[0m: module 'gradio' has no attribute 'inputs'"
     ]
    }
   ],
   "source": [
    "# Run Inference Server\n",
    "# Click on Public URL to run demo on separate page or for sharing purposes\n",
    "iface = gr.Interface(\n",
    "    predict_disease_from_symptom,\n",
    "    [\n",
    "        gr.inputs.CheckboxGroup(['acidity', 'indigestion', 'headache', 'blurred_and_distorted_vision', \n",
    "                                 'excessive_hunger', 'muscle_weakness', 'stiff_neck', 'swelling_joints', \n",
    "                                 'movement_stiffness', 'depression','irritability', 'visual_disturbances', \n",
    "                                 'painful_walking', 'abdominal_pain', 'nausea', 'vomiting', 'blood_in_mucus', \n",
    "                                 'Fatigue','Fever', 'Dehydration', 'loss_of_appetite', 'cramping',\n",
    "                                 'blood_in_stool', 'gnawing', 'upper_abdomain_pain', 'fullness_feeling',\n",
    "                                 'hiccups', 'abdominal_bloating', 'heartburn', 'belching','burning_ache']),\n",
    "    ],\n",
    "    \"text\",\n",
    "    description=\"Select a symptom from the list and click submit to get predicted Disease as the Output. \\\n",
    "    [ NOTE: This app is meant for demo purposes only. Please consult a Doctor if you have any symptoms. ]\"\n",
    ")\n",
    "\n",
    "iface.launch(share=True)"
   ]
  },
  {
   "cell_type": "code",
   "execution_count": null,
   "id": "2e2c4220-6660-4ad7-9cce-244f53971ba6",
   "metadata": {},
   "outputs": [],
   "source": []
  }
 ],
 "metadata": {
  "kernelspec": {
   "display_name": "Python 3",
   "language": "python",
   "name": "python3"
  },
  "language_info": {
   "codemirror_mode": {
    "name": "ipython",
    "version": 3
   },
   "file_extension": ".py",
   "mimetype": "text/x-python",
   "name": "python",
   "nbconvert_exporter": "python",
   "pygments_lexer": "ipython3",
   "version": "3.9.6"
  },
  "vscode": {
   "interpreter": {
    "hash": "aee8b7b246df8f9039afb4144a1f6fd8d2ca17a180786b69acc140d282b71a49"
   }
  }
 },
 "nbformat": 4,
 "nbformat_minor": 5
}
